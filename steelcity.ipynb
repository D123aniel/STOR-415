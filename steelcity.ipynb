{
 "cells": [
  {
   "cell_type": "markdown",
   "metadata": {},
   "source": [
    "# Steel City Steelworks\n",
    "\n",
    "Steel City Steelworks has steel mills in three major US cities producing different amounts of steel each week to supply manufacturing plants in four other cities with different amounts of weekly demand.  The table below lists steel supplies in tons for each mill, steel demands in tons for each plant, and per-ton shipping costs for sending steel from each supply mill to each plant.\n",
    "\n",
    "| From/To | Detroit | St. Louis | Chicago | Norfolk | Supply |\n",
    "| :---: | :---: | :---: | :---: | :---: | :---: |\n",
    "Birmingham | 14 | 9  | 16 | 18 | 150 |\n",
    "Gary | 11 |  8 | 7 | 16 | 210 |\n",
    "Pittsburgh |  16 | 12 | 10 | 22 | 320 |\n",
    "Demand |  130 | 70 | 180 | 240 |  |\n",
    "\n",
    "**Goal:** Determine a plan for transporting steel from mills to plants that satisfies all demand while minimizing total transportation cost.\n"
   ]
  },
  {
   "cell_type": "code",
   "execution_count": null,
   "metadata": {},
   "outputs": [],
   "source": [
    "#Problem Data\n",
    "\n",
    "num_mills = 3\n",
    "num_plants = 4\n",
    "\n",
    "costs = [14 9 16 18;\n",
    "        11 8 7 16;\n",
    "        16 12 10 22]\n",
    "        \n",
    "supply = [150 210 320];\n",
    "demand = [130 70 180 240];"
   ]
  },
  {
   "cell_type": "code",
   "execution_count": null,
   "metadata": {},
   "outputs": [],
   "source": [
    "#JuMP Model\n",
    "\n",
    "using JuMP, HiGHS\n",
    "\n",
    "steelcity = Model(HiGHS.Optimizer)\n",
    "\n",
    "#Create a variable xij for each (mill, plant) pair that represents\n",
    "#the amount of steel (in tons) sent from mill i to plant j\n",
    "@variable(steelcity, x[1:num_mills,1:num_plants] >= 0)\n",
    "\n",
    "#Each mill i can provide at most supply[i] tons of steel\n",
    "@constraint(steelcity, supplyconstraint[i in 1:num_mills], sum(x[i,j] for j in 1:num_plants) <= supply[i])\n",
    "\n",
    "#Each plant j requires at least demand[j] tons of steel\n",
    "@constraint(steelcity, demandconstraint[j in 1:num_plants], sum(x[i,j] for i in 1:num_mills) >= demand[j])\n",
    "\n",
    "#Cost of sending from mill i to plant j is given by costs[i,j]\n",
    "@objective(steelcity, Min, sum(sum(costs[i,j]*x[i,j] for j in 1:num_plants) for i in 1:num_mills))\n",
    "\n",
    "print(steelcity)"
   ]
  },
  {
   "cell_type": "code",
   "execution_count": null,
   "metadata": {},
   "outputs": [],
   "source": [
    "optimize!(steelcity)"
   ]
  },
  {
   "cell_type": "code",
   "execution_count": null,
   "metadata": {},
   "outputs": [],
   "source": [
    "@show objective_value(steelcity)\n",
    "@show value.(x)"
   ]
  },
  {
   "cell_type": "code",
   "execution_count": null,
   "metadata": {},
   "outputs": [],
   "source": []
  }
 ],
 "metadata": {
  "kernelspec": {
   "display_name": "Julia 1.11.2",
   "language": "julia",
   "name": "julia-1.11"
  },
  "language_info": {
   "file_extension": ".jl",
   "mimetype": "application/julia",
   "name": "julia",
   "version": "1.11.2"
  }
 },
 "nbformat": 4,
 "nbformat_minor": 4
}
