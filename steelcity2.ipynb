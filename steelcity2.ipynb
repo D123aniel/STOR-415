{
 "cells": [
  {
   "cell_type": "markdown",
   "metadata": {},
   "source": [
    "# Steel City Steelworks, Part Deux\n",
    "\n",
    "Steel City Steelworks has steel mills in three major US cities producing different amounts of steel each week to supply manufacturing plants in four other cities with different amounts of weekly demand.  The table below lists steel supplies in tons for each mill, steel demands in tons for each plant, and per-ton shipping costs for sending steel from each supply mill to each plant.\n",
    "\n",
    "| From/To | Detroit | St. Louis | Chicago | Norfolk | Supply |\n",
    "| :---: | :---: | :---: | :---: | :---: | :---: |\n",
    "Birmingham | 14 | 9  | 16 | 18 | 150 |\n",
    "Gary | 11 |  8 | 7 | 16 | 210 |\n",
    "Pittsburgh |  16 | 12 | 10 | 22 | 320 |\n",
    "Demand |  130 | 70 | 180 | 240 |  |\n",
    "\n",
    "**Goal:** Determine a plan for transporting steel from mills to plants that satisfies all demand while minimizing total transportation cost.\n",
    "\n",
    "This time, we will model this as a balanced Minimum Cost Network Flow Problem; that is, our model will take the form:\n",
    "\n",
    "\\begin{align*}\n",
    "\\underset{\\mathbf{x} \\in \\mathbb{R}^{|\\mathcal{E}|}}{\\min} \\quad & \\mathbf{c}^\\top \\mathbf{x} \\\\\n",
    "\\text{s.t.} \\quad \\ \\ &\\mathbf{A}\\mathbf{x} = \\mathbf{b} \\\\\n",
    "&\\mathbf{p} \\leq \\mathbf{x} \\leq \\mathbf{q}\n",
    "\\end{align*}\n",
    "\n",
    "where $\\mathbf{A}$ is the incidence matrix of the graph.\n",
    "\n",
    "To make this happen, we need to introduce a \"dummy\" demand node with a demand of 60 to balance out the problem."
   ]
  },
  {
   "cell_type": "code",
   "execution_count": null,
   "metadata": {},
   "outputs": [],
   "source": [
    "#Problem Data\n",
    "\n",
    "num_mills = 3\n",
    "num_plants = 5  # adding one more \"dummy\" plant\n",
    "num_edges = num_mills * num_plants\n",
    "\n",
    "#Define the incidence matrix A for our fully connected network\n",
    "#Edges go from the mills (first 3 rows) to the plants (last 5 rows)\n",
    "#Edge 1 is column 1, edge 2 is column 2, etc.\n",
    "A = [1  1  1  1  1  0  0  0  0  0  0  0  0  0  0\n",
    "     0  0  0  0  0  1  1  1  1  1  0  0  0  0  0\n",
    "     0  0  0  0  0  0  0  0  0  0  1  1  1  1  1\n",
    "    -1  0  0  0  0 -1  0  0  0  0 -1  0  0  0  0\n",
    "     0 -1  0  0  0  0 -1  0  0  0  0 -1  0  0  0\n",
    "     0  0 -1  0  0  0  0 -1  0  0  0  0 -1  0  0\n",
    "     0  0  0 -1  0  0  0  0 -1  0  0  0  0 -1  0\n",
    "     0  0  0 0  -1  0  0  0  0 -1  0  0  0  0 -1];\n",
    "\n",
    "#Supplies (first 3 entries) + real demands (next 4 entries) + dummy demand (last entry)\n",
    "b = [150, 210, 320, -130, -70, -180, -240, -60]\n",
    "\n",
    "#Same costs as before, but vectorized and with costs of 0 assigned to edges going to dummy plant\n",
    "costs = [14 9 16 18 0 11 8 7 16 0 16 12 10 22 0];\n",
    "\n",
    "A"
   ]
  },
  {
   "cell_type": "code",
   "execution_count": null,
   "metadata": {},
   "outputs": [],
   "source": [
    "#JuMP Model\n",
    "\n",
    "using JuMP, HiGHS\n",
    "\n",
    "steelcity2 = Model(HiGHS.Optimizer)\n",
    "\n",
    "@variable(steelcity2, x[1:num_edges] >= 0)\n",
    "@constraint(steelcity2, supplyanddemand, A*x .== b)\n",
    "\n",
    "@objective(steelcity2, Min, sum(costs[i]*x[i] for i in 1:num_edges))\n",
    "\n",
    "print(steelcity2)"
   ]
  },
  {
   "cell_type": "code",
   "execution_count": null,
   "metadata": {},
   "outputs": [],
   "source": [
    "optimize!(steelcity2)"
   ]
  },
  {
   "cell_type": "code",
   "execution_count": null,
   "metadata": {},
   "outputs": [],
   "source": [
    "@show objective_value(steelcity2)\n",
    "@show value.(x)"
   ]
  },
  {
   "cell_type": "code",
   "execution_count": null,
   "metadata": {},
   "outputs": [],
   "source": []
  }
 ],
 "metadata": {
  "kernelspec": {
   "display_name": "Julia 1.11.2",
   "language": "julia",
   "name": "julia-1.11"
  },
  "language_info": {
   "file_extension": ".jl",
   "mimetype": "application/julia",
   "name": "julia",
   "version": "1.11.2"
  }
 },
 "nbformat": 4,
 "nbformat_minor": 4
}
