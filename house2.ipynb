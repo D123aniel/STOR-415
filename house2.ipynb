{
 "cells": [
  {
   "cell_type": "markdown",
   "metadata": {},
   "source": [
    "# Building a House (Problem in the Harvard Business Review, 1963)\n",
    "\n",
    "Several tasks must be completed in order to build our house. Each task has a duration, and some tasks may be worked on simultaneously, but there are also task dependencies that induce precedence constraints. Some tasks can only be started once other tasks have been completed. The following table shows each task, its duration, and the tasks that must be completed before it starts. How fast can the house be built?\n",
    "\n",
    "![alt text](https://hbr.org/resources/images/article_assets/hbr/6309/63508_B.gif)\n",
    "\n",
    "Let's model finding the critical (longest) path in this graph this as a network flow problem."
   ]
  },
  {
   "cell_type": "code",
   "execution_count": null,
   "metadata": {},
   "outputs": [],
   "source": [
    "#Reuse the same data as last time\n",
    "\n",
    "#Array for storing task labels (:a, :b, ..., :x)\n",
    "tasks = []\n",
    "for i = 'a':'x'\n",
    "    #Can convert back to string using string(sym), e.g. string(:hello) returns \"hello\"\n",
    "    push!(tasks, Symbol(i))\n",
    "end\n",
    "\n",
    "#Dictionary to store the task durations\n",
    "dur = [0, 4, 2, 4, 6, 1, 2, 3, 2, 4, 10, 3, 1, 2, 3, 2, 1, 1, 2, 3, 1, 2, 5, 0]\n",
    "duration = Dict(zip(tasks,dur))\n",
    "\n",
    "#Dictionary to store immediate predecessors for each project\n",
    "predecessors = ( [], [:a], [:b], [:c], [:d], [:c], [:f], [:f], [:d], [:d,:g], [:i,:j,:h], [:k],\n",
    "    [:l], [:l], [:l], [:e], [:p], [:c], [:o,:t], [:m,:n], [:t], [:q,:r], [:v], [:s,:u,:w])\n",
    "pred = Dict(zip(tasks,predecessors));\n",
    "\n",
    "#Initialize and build edge set, store edge costs\n",
    "edges = []\n",
    "costs = []\n",
    "\n",
    "#Create an edge for each task predecessor, starting from predecessor and ending at task, with cost equal to task's duration\n",
    "for i in tasks\n",
    "    for j in pred[i]\n",
    "        push!(edges, (j,i))\n",
    "        push!(costs, duration[i])\n",
    "    end\n",
    "end\n",
    "\n",
    "#Store edge costs in dictionary with edges as keys\n",
    "edge_costs = Dict(zip(edges,costs));\n",
    "\n",
    "#Initialize incidence matrix\n",
    "using NamedArrays\n",
    "\n",
    "zero_matrix = zeros( size(tasks,1), size(edges,1) )\n",
    "A = NamedArray( zero_matrix, (tasks,edges), (\"task\",\"edge\") )\n",
    "\n",
    "#Build incidence matrix column-by-column\n",
    "for e in edges\n",
    "    A[e[1],e] = 1  #in column for edge e, put a 1 in the row corresponding to the task that the edge starts from\n",
    "    A[e[2],e] = -1  #in column for edge e, put a -1 in the row corresponding to the task that the edge ends at\n",
    "end\n",
    "\n",
    "#Node supplies: 1 for task :a, -1 for task :x, 0 for all others\n",
    "b = [1, 0, 0, 0, 0, 0, 0, 0, 0, 0, 0, 0, 0, 0, 0, 0, 0, 0, 0, 0, 0, 0, 0, -1];"
   ]
  },
  {
   "cell_type": "code",
   "execution_count": null,
   "metadata": {},
   "outputs": [],
   "source": [
    "using JuMP\n",
    "using HiGHS\n",
    "\n",
    "m = Model(HiGHS.Optimizer)\n",
    "\n",
    "#Edges from node j to node i\n",
    "@variable(m, 0 <= x[edges] <= 1)\n",
    "\n",
    "@constraint(m, flow_conservation, A*x .== b)\n",
    "\n",
    "@objective(m, Max, sum(edge_costs[e]*x[e] for e in edges))\n",
    "\n",
    "print(m)"
   ]
  },
  {
   "cell_type": "code",
   "execution_count": null,
   "metadata": {},
   "outputs": [],
   "source": [
    "optimize!(m)"
   ]
  },
  {
   "cell_type": "code",
   "execution_count": null,
   "metadata": {},
   "outputs": [],
   "source": [
    "@show objective_value(m)\n",
    "\n",
    "for e in edges\n",
    "    if(value(x[e]) > 10^-9)\n",
    "        println(\"The edge from \", e[1], \" to \", e[2], \" is part of the longest path.\")\n",
    "    end\n",
    "end"
   ]
  },
  {
   "cell_type": "code",
   "execution_count": null,
   "metadata": {},
   "outputs": [],
   "source": []
  }
 ],
 "metadata": {
  "kernelspec": {
   "display_name": "Julia 1.11.2",
   "language": "julia",
   "name": "julia-1.11"
  },
  "language_info": {
   "file_extension": ".jl",
   "mimetype": "application/julia",
   "name": "julia",
   "version": "1.11.2"
  }
 },
 "nbformat": 4,
 "nbformat_minor": 4
}
