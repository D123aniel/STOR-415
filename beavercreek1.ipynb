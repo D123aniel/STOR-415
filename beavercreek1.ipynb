{
 "cells": [
  {
   "cell_type": "markdown",
   "id": "5a4610b8",
   "metadata": {},
   "source": [
    "# The Beaver Creek Pottery Problem - Formulation 1\n"
   ]
  },
  {
   "cell_type": "markdown",
   "id": "ed43f1ae",
   "metadata": {},
   "source": [
    "The Beaver Creek Pottery Co. produces artisanal clay bowls and mugs using two primary resources: skilled labor and clay.\n",
    "\n",
    "Each bowl requires 1 hour of labor and 4 pounds of clay.\n",
    "\n",
    "Each mug requires 2 hours of labor and 3 pounds of clay.\n",
    "\n",
    "Each bowl is sold at a profit of $\\$40$, each mug at a profit of $\\$50$.\n",
    "\n",
    "The company's resources are limited; they have 40 hours of labor and 120 pounds of clay available each day.  \n",
    "\n",
    "Goal: Determine the number of bowls and mugs that the company should make each day in order to maximize profit given their limited resources.\n",
    "\n",
    "To model this problem, let $x_1$ denote the number of bowls produced and $x_2$ the number of mugs produced. Then, this can be formulated as the following LP:\n",
    "\n",
    "\\begin{align*}\n",
    "\t\\underset{x_1, x_2}{\\max} \\quad &40x_1 + 50x_2 \\\\\n",
    "\t\\text{s.t.} \\quad & 4x_1 + 3x_2 \\leq 120 \\\\\n",
    "    & x_1+2x_2 \\leq 40 \\\\\n",
    "    & x_1 \\geq 0, \\; x_2 \\geq 0\n",
    "\\end{align*}\n",
    "\n",
    "Let's model this problem using JuMP."
   ]
  },
  {
   "cell_type": "code",
   "execution_count": 1,
   "id": "2ba687ba",
   "metadata": {},
   "outputs": [
    {
     "name": "stdout",
     "output_type": "stream",
     "text": [
      "Max 40 x1 + 50 x2\n",
      "Subject to\n",
      " labor : x1 + 2 x2 <= 40\n",
      " clay : 4 x1 + 3 x2 <= 120\n",
      " x1 >= 0\n",
      " x2 >= 0\n"
     ]
    }
   ],
   "source": [
    "#Uncomment the lines below to download the JuMP and HiGHS packages if they are not already installed\n",
    "# import Pkg\n",
    "# Pkg.add(\"JuMP\")\n",
    "# Pkg.add(\"HiGHS\")\n",
    "\n",
    "#Import JuMP package to build an optimization model\n",
    "using JuMP\n",
    "#Import HiGHS solver\n",
    "using HiGHS\n",
    "\n",
    "#Create a JuMP model named beavercreek1 that will be solved using the HiGHS solver\n",
    "beavercreek1 = Model(HiGHS.Optimizer);\n",
    "\n",
    "#Add the variables x1 and x2\n",
    "@variable(beavercreek1, x1 >= 0);\n",
    "@variable(beavercreek1, x2 >= 0);\n",
    "\n",
    "#Create the constraints, name them labor and clay\n",
    "@constraint(beavercreek1, labor, x1 + 2x2 <= 40);\n",
    "@constraint(beavercreek1, clay, 4x1 + 3x2 <= 120);\n",
    "\n",
    "#Create our objective function and set it for maximization\n",
    "@objective(beavercreek1, Max, 40x1 + 50x2);\n",
    "\n",
    "#Print out the model\n",
    "print(beavercreek1)\n",
    "#If you have the LaTeX extension in VSCode installed, print the model in a nicer format\n",
    "#latex_formulation(beavercreek1)"
   ]
  },
  {
   "cell_type": "markdown",
   "id": "71e46867",
   "metadata": {},
   "source": [
    "Next, let's solve this model."
   ]
  },
  {
   "cell_type": "code",
   "execution_count": null,
   "id": "6673ffdc",
   "metadata": {},
   "outputs": [],
   "source": [
    "#Solve the model\n",
    "optimize!(beavercreek1);\n",
    "#Outputs detailed information about the solution process\n",
    "@show solution_summary(beavercreek1);"
   ]
  },
  {
   "cell_type": "markdown",
   "id": "3b3e98d1",
   "metadata": {},
   "source": [
    "We successfully solved the model. Let's print out the optimal objective value and the variable values at the optimal solution."
   ]
  },
  {
   "cell_type": "code",
   "execution_count": null,
   "id": "578195c4",
   "metadata": {},
   "outputs": [],
   "source": [
    "#Final objective value\n",
    "@show objective_value(beavercreek1);\n",
    "#Value of x1 at solution\n",
    "@show value(x1);\n",
    "#Value of x2 at solution\n",
    "@show value(x2);"
   ]
  },
  {
   "cell_type": "code",
   "execution_count": null,
   "id": "df2011b0-f2b5-4cd3-957c-c529144ab227",
   "metadata": {},
   "outputs": [],
   "source": []
  }
 ],
 "metadata": {
  "kernelspec": {
   "display_name": "Julia 1.11.3",
   "language": "julia",
   "name": "julia-1.11"
  },
  "language_info": {
   "file_extension": ".jl",
   "mimetype": "application/julia",
   "name": "julia",
   "version": "1.11.3"
  }
 },
 "nbformat": 4,
 "nbformat_minor": 5
}
