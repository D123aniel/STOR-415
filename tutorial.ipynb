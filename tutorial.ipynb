{
 "cells": [
  {
   "cell_type": "markdown",
   "metadata": {},
   "source": [
    "# A heading\n",
    "#### smaller heading\n",
    "\n",
    "this is just text \n",
    "\n",
    "Math mode: $c = \\sqrt{a^2+b^2}$. \n",
    "\n",
    "On its own line:\n",
    "$$\n",
    "E=mc^2\n",
    "$$\n",
    "\n",
    "You can also do lists:\n",
    "- first\n",
    "- second\n",
    "- third\n",
    "\n",
    "and much more! Here is a [link to a guide on basic markdown](https://www.markdownguide.org/getting-started/)\n",
    "\n",
    "| Tables        | Are           | Cool  |\n",
    "| ------------- |:-------------:| -----:|\n",
    "| col 3 is      | right-aligned | \\$1600 |\n",
    "| col 2 is      | centered      |   \\$12 |\n",
    "| zebra stripes | are neat      |    \\$1 |"
   ]
  },
  {
   "cell_type": "code",
   "execution_count": null,
   "metadata": {},
   "outputs": [],
   "source": [
    "#=\n",
    "this is a comment\n",
    "that spans multiple lines\n",
    "=#\n",
    "x=2+3\n",
    "y=1+1\n",
    "\n",
    "println(\"the answer is: \", x+y)"
   ]
  },
  {
   "cell_type": "markdown",
   "metadata": {},
   "source": [
    "Julia can also use unicode symbols. Type \\pi and press tab to create the pi character."
   ]
  },
  {
   "cell_type": "code",
   "execution_count": null,
   "metadata": {},
   "outputs": [],
   "source": [
    "π"
   ]
  },
  {
   "cell_type": "markdown",
   "metadata": {},
   "source": [
    "Other symbols can be defined as variables as well. For example, typing \\sigma and tab gives:"
   ]
  },
  {
   "cell_type": "code",
   "execution_count": null,
   "metadata": {},
   "outputs": [],
   "source": [
    "σ = 5"
   ]
  },
  {
   "cell_type": "code",
   "execution_count": null,
   "metadata": {},
   "outputs": [],
   "source": [
    "σ^2"
   ]
  },
  {
   "cell_type": "markdown",
   "metadata": {},
   "source": [
    "Generally speaking, I would not suggest using symbols in code. However, some Julia code will use symbols (such as greek letters), so it is good to understand how it works."
   ]
  },
  {
   "cell_type": "markdown",
   "metadata": {},
   "source": [
    "Julia also natively supports vectors and matrices:"
   ]
  },
  {
   "cell_type": "code",
   "execution_count": null,
   "metadata": {},
   "outputs": [],
   "source": [
    "x = [1 2 3]"
   ]
  },
  {
   "cell_type": "code",
   "execution_count": null,
   "metadata": {},
   "outputs": [],
   "source": [
    "y = [1, 2, 3]"
   ]
  },
  {
   "cell_type": "code",
   "execution_count": null,
   "metadata": {},
   "outputs": [],
   "source": [
    "x*y"
   ]
  },
  {
   "cell_type": "code",
   "execution_count": null,
   "metadata": {},
   "outputs": [],
   "source": [
    "A = [1 2 3; 4 5 6]"
   ]
  },
  {
   "cell_type": "code",
   "execution_count": null,
   "metadata": {},
   "outputs": [],
   "source": [
    "A = []"
   ]
  },
  {
   "cell_type": "code",
   "execution_count": null,
   "metadata": {},
   "outputs": [],
   "source": [
    "push!(A, \"hello\")"
   ]
  },
  {
   "cell_type": "code",
   "execution_count": null,
   "metadata": {},
   "outputs": [],
   "source": [
    "push!(A, rand(2,3))"
   ]
  },
  {
   "cell_type": "code",
   "execution_count": null,
   "metadata": {},
   "outputs": [],
   "source": [
    "push!(A, A)"
   ]
  },
  {
   "cell_type": "markdown",
   "metadata": {},
   "source": [
    "We can also create arrays using the range functionality:"
   ]
  },
  {
   "cell_type": "code",
   "execution_count": null,
   "metadata": {},
   "outputs": [],
   "source": [
    "x = 1:5\n",
    "y = 10:-2:0\n",
    "\n",
    "for i in x\n",
    "    print(i, \" \")\n",
    "end\n",
    "println(\"\")\n",
    "for j in y\n",
    "    print(j, \" \")\n",
    "end"
   ]
  },
  {
   "cell_type": "markdown",
   "metadata": {},
   "source": [
    "We can use this functionality to make writing loops easier."
   ]
  },
  {
   "cell_type": "code",
   "execution_count": null,
   "metadata": {},
   "outputs": [],
   "source": [
    "x = [3 4 5 6 7]\n",
    "for i in 1:4\n",
    "    println(x[i]*x[i+1])\n",
    "end"
   ]
  },
  {
   "cell_type": "markdown",
   "metadata": {},
   "source": [
    "We can generate vectors of uniformly random variables with:"
   ]
  },
  {
   "cell_type": "code",
   "execution_count": null,
   "metadata": {},
   "outputs": [],
   "source": [
    "x = rand(5)"
   ]
  },
  {
   "cell_type": "code",
   "execution_count": null,
   "metadata": {},
   "outputs": [],
   "source": [
    "for i in 3:5\n",
    "    println(x[i])\n",
    "end"
   ]
  },
  {
   "cell_type": "markdown",
   "metadata": {},
   "source": [
    "There are some special vectors in Julia."
   ]
  },
  {
   "cell_type": "code",
   "execution_count": null,
   "metadata": {},
   "outputs": [],
   "source": [
    "x = ones(3)"
   ]
  },
  {
   "cell_type": "code",
   "execution_count": null,
   "metadata": {},
   "outputs": [],
   "source": [
    "y = zeros(3)"
   ]
  },
  {
   "cell_type": "markdown",
   "metadata": {},
   "source": [
    "We can also create the identity matrix using these vectors with the LinearAlgebra package."
   ]
  },
  {
   "cell_type": "code",
   "execution_count": null,
   "metadata": {},
   "outputs": [],
   "source": [
    "#If you have not used LinearAlgebra before, call\n",
    "#using Pkg\n",
    "#Pkg.add(\"LinearAlgebra\")\n",
    "\n",
    "using LinearAlgebra\n",
    "I = diagm(ones(3))"
   ]
  },
  {
   "cell_type": "markdown",
   "metadata": {},
   "source": [
    "Another useful type of data structure in Julia is dictionaries. Dictionaries map a key to a value. For example:"
   ]
  },
  {
   "cell_type": "code",
   "execution_count": null,
   "metadata": {},
   "outputs": [],
   "source": [
    "mydictionary = Dict([(\"A\",1),(\"B\",2)])\n",
    "mydictionary[\"B\"]"
   ]
  },
  {
   "cell_type": "markdown",
   "metadata": {},
   "source": [
    "We can also add elements to a dictionary after creating it:"
   ]
  },
  {
   "cell_type": "code",
   "execution_count": null,
   "metadata": {},
   "outputs": [],
   "source": [
    "mydictionary[\"C\"] = 3\n",
    "for (key, value) in mydictionary\n",
    "    println(\"key = \", key, \" value = \", value)\n",
    "end\n",
    "\n",
    "println(mydictionary[\"C\"])"
   ]
  },
  {
   "cell_type": "markdown",
   "metadata": {},
   "source": [
    "We will also use another type of data structure to organize code sometimes, called a NamedArray, which enables us to label the rows and columns of a matrix (or array).\n",
    "\n",
    "Recall the accountant hiring problem from the second lecture:\n",
    "\n",
    "The monthly salary and weekly mistake averages for each type of accountant are given in the following table:\n",
    "\n",
    "| | Type A | Type B |\n",
    "| :-: |:-:| :-:|\n",
    "| Monthly salary | \\$12000 | \\$8000 |\n",
    "| Mistakes per week  | 1 | 4 |"
   ]
  },
  {
   "cell_type": "code",
   "execution_count": null,
   "metadata": {},
   "outputs": [],
   "source": [
    "#If you haven't used NamedArrays before, run\n",
    "# using Pkg\n",
    "# # Pkg.add(\"NamedArrays\")\n",
    "# using NamedArrays\n",
    "\n",
    "types = [:TypeA, :TypeB]\n",
    "info = [:salary, :mistakes]\n",
    "\n",
    "matrix = [12000 8000; 1 4]\n",
    "\n",
    "namedmatrix = NamedArray( matrix, (info,types), (\"info\",\"type\") )"
   ]
  },
  {
   "cell_type": "code",
   "execution_count": null,
   "metadata": {},
   "outputs": [],
   "source": [
    "for i in info\n",
    "    println(namedmatrix[i,:TypeA])\n",
    "end\n",
    "\n",
    "println(\"Type A accountants have a salary of \", namedmatrix[:salary,:TypeA], \" dollars per month.\")"
   ]
  },
  {
   "cell_type": "markdown",
   "metadata": {},
   "source": [
    "Plotting is also relatively easy in Julia."
   ]
  },
  {
   "cell_type": "code",
   "execution_count": null,
   "metadata": {},
   "outputs": [],
   "source": [
    "#If you haven't used Plots before, run\n",
    "#using Pkg\n",
    "#Pkg.add(\"Plots\")\n",
    "using Plots\n",
    "\n",
    "x = LinRange(0,2π, 100)\n",
    "y = sin.(x)\n",
    "plot(x,y,linestyle=:dash,linecolor=:red,linewidth=3)"
   ]
  },
  {
   "cell_type": "code",
   "execution_count": null,
   "metadata": {},
   "outputs": [],
   "source": []
  }
 ],
 "metadata": {
  "kernelspec": {
   "display_name": "Julia 1.11.2",
   "language": "julia",
   "name": "julia-1.11"
  },
  "language_info": {
   "file_extension": ".jl",
   "mimetype": "application/julia",
   "name": "julia",
   "version": "1.11.2"
  }
 },
 "nbformat": 4,
 "nbformat_minor": 4
}
