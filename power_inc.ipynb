{
 "cells": [
  {
   "cell_type": "markdown",
   "metadata": {},
   "source": [
    "## Power Capacity Planning"
   ]
  },
  {
   "cell_type": "markdown",
   "metadata": {},
   "source": [
    "- A regional power company is devising an energy generation strategy for the next decade. They currently provide power to two adjacent counties, Avery and Burke, using a mix of nuclear, coal, and solar energy.\n",
    "<br/><br/>\n",
    "- Avery and Burke Counties are both growing rapidly; the company predicts that future demand for energy in the region will exceed the current grid's capacity by up to $5.0 \\times 10^3$ megawatts (MW) at peak times.\n",
    "<br/><br/>\n",
    "- Costs of developing additional grid capacity in each county (based on existing facilities and infrastructure) are provided in the table below, all given in dollars per MW: \n",
    "\n",
    "| County\\Type | Nuclear | Coal | Solar |\n",
    "| ----------- | ------- | ---- | ----- |\n",
    "| Avery | $5.2 \\times 10^6$ | $2.5 \\times 10^6$ | $8.0 \\times 10^6$ |\n",
    "| Burke | $4.8 \\times 10^6$ | $2.2 \\times 10^6$ | $8.5 \\times 10^6$ |\n",
    "\n",
    "- Greenhouse gas emission rates (in tons of gas per megawatt generated) for nuclear, coal, and solar power generation are $1.5\\times 10^3$ tons/MW, $5.3 \\times 10^3$ tons/MW, and $0.1 \\times 10^3$ tons/MW, respectively. The power company has pledged to cap total additional greenhouse gas emissions resulting from this capacity expansion project at $7.2 \\times 10^6$ tons.\n",
    "<br/><br/>\n",
    "- Burke County voters and politicians have been explicit about what they want their role in this capacity expansion to look like:\n",
    "  - No additional capacity supplied by nuclear power from Burke County,\n",
    "  - No more than $1.5 \\times 10^3$ MW of additional capacity supplied by coal power from Burke County, and\n",
    "  - No less than $2 \\times 10^3$ MW of additional capacity supplied by solar power from Burke County.\n",
    "<br/><br/>\n",
    "- **Goal**: Find a mix of nuclear, coal, and solar energy expansion in each county that satisfies all requirements at minimum cost.\n"
   ]
  },
  {
   "cell_type": "markdown",
   "metadata": {},
   "source": [
    "- Define Types = {Nuclear, Coal, Solar} and Counties = {Avery, Burke}.\n",
    "- Define parameters:\n",
    "    - $c_{ij}$: The cost per 1000 MW of power for each $i \\in$ Types, $j \\in$ Counties.\n",
    "    - $e_{i}$: Emissions level per 1000 MW for each $i \\in$ Types.\n",
    "    - $e_{\\max}$: Emissions ceiling in pounds per 1000 MW.\n",
    "    - $d_{\\max}$: Maximum amount of power demanded over current capacity, in thousands of MW.\n",
    "    - $\\ell_{ij},\\ u_{ij}$: Lower and upper bounds for added capacity in thousands of MW for each $i \\in$ Types, $j \\in$ Counties (may be $\\pm \\infty$)\n",
    "- The optimization problem is:\n",
    "\\begin{align*} \n",
    "\\underset{\\mathbf{x}}{\\min} \\quad  &\\sum_{i \\in \\text{Types}} \\sum_{j \\in \\text{Counties}} c_{ij} x_{ij} \\\\\n",
    "\\text{s.t.} \\ \\ \\quad &\\sum_{i \\in \\text{Types}} \\sum_{j \\in \\text{Counties}} x_{ij}  \\geq d_{\\max} \\\\\n",
    "&\\sum_{i \\in \\text{Types}} e_i \\left[\\sum_{j \\in \\text{Counties}} x_{ij}\\right] \\leq e_{\\max} \\\\\n",
    "&x_{ij} \\in [\\ell_{ij}, u_{ij}] \\quad \\forall i\\in\\text{Types},\\ j \\in \\text{Counties}\n",
    "\\end{align*}\n",
    "\n",
    "Let's define the data in code."
   ]
  },
  {
   "cell_type": "code",
   "execution_count": 3,
   "metadata": {},
   "outputs": [
    {
     "name": "stderr",
     "output_type": "stream",
     "text": [
      "\u001b[32m\u001b[1m   Resolving\u001b[22m\u001b[39m package versions...\n",
      "\u001b[32m\u001b[1m   Installed\u001b[22m\u001b[39m Combinatorics ─── v1.0.2\n",
      "\u001b[32m\u001b[1m   Installed\u001b[22m\u001b[39m InvertedIndices ─ v1.3.1\n",
      "\u001b[32m\u001b[1m   Installed\u001b[22m\u001b[39m NamedArrays ───── v0.10.3\n",
      "\u001b[32m\u001b[1m   Installed\u001b[22m\u001b[39m DelimitedFiles ── v1.9.1\n",
      "\u001b[32m\u001b[1m   Installed\u001b[22m\u001b[39m Requires ──────── v1.3.0\n",
      "\u001b[32m\u001b[1m    Updating\u001b[22m\u001b[39m `C:\\Users\\dz28l\\.julia\\environments\\v1.11\\Project.toml`\n",
      "  \u001b[90m[86f7a689] \u001b[39m\u001b[92m+ NamedArrays v0.10.3\u001b[39m\n",
      "\u001b[32m\u001b[1m    Updating\u001b[22m\u001b[39m `C:\\Users\\dz28l\\.julia\\environments\\v1.11\\Manifest.toml`\n",
      "  \u001b[90m[861a8166] \u001b[39m\u001b[92m+ Combinatorics v1.0.2\u001b[39m\n",
      "  \u001b[90m[8bb1440f] \u001b[39m\u001b[92m+ DelimitedFiles v1.9.1\u001b[39m\n",
      "  \u001b[90m[41ab1584] \u001b[39m\u001b[92m+ InvertedIndices v1.3.1\u001b[39m\n",
      "  \u001b[90m[86f7a689] \u001b[39m\u001b[92m+ NamedArrays v0.10.3\u001b[39m\n",
      "  \u001b[90m[ae029012] \u001b[39m\u001b[92m+ Requires v1.3.0\u001b[39m\n",
      "\u001b[92m\u001b[1mPrecompiling\u001b[22m\u001b[39m project...\n",
      "    644.2 ms\u001b[32m  ✓ \u001b[39m\u001b[90mInvertedIndices\u001b[39m\n",
      "    733.4 ms\u001b[32m  ✓ \u001b[39m\u001b[90mRequires\u001b[39m\n",
      "    726.5 ms\u001b[32m  ✓ \u001b[39m\u001b[90mDelimitedFiles\u001b[39m\n",
      "   1331.6 ms\u001b[32m  ✓ \u001b[39m\u001b[90mCombinatorics\u001b[39m\n",
      "   1562.0 ms\u001b[32m  ✓ \u001b[39mNamedArrays\n",
      "  5 dependencies successfully precompiled in 4 seconds. 78 already precompiled.\n"
     ]
    }
   ],
   "source": [
    "import Pkg\n",
    "Pkg.add(\"NamedArrays\")"
   ]
  },
  {
   "cell_type": "code",
   "execution_count": 7,
   "metadata": {},
   "outputs": [
    {
     "data": {
      "text/plain": [
       "3×2 Named Matrix{Float64}\n",
       "type ╲ county │ Avery  Burke\n",
       "──────────────┼─────────────\n",
       "nuclear       │   Inf    0.0\n",
       "coal          │   Inf    1.5\n",
       "solar         │   Inf    Inf"
      ]
     },
     "execution_count": 7,
     "metadata": {},
     "output_type": "execute_result"
    }
   ],
   "source": [
    "types = [:nuclear, :coal, :solar]\n",
    "counties = [:Avery, :Burke]\n",
    "\n",
    "dmax = 5\n",
    "emax = 7.2*10^3\n",
    "\n",
    "using NamedArrays\n",
    "#Remember that the x variables will be in units of 10^3 MW \n",
    "cmat = [5.2*10^3 4.8*10^3; 2.5*10^3 2.25*10^3; 8*10^3 8.5*10^3]\n",
    "c = NamedArray( cmat, (types,counties), (\"type\",\"county\") )\n",
    "\n",
    "e = Dict(zip(types,[1.5,5.3,0.1]))\n",
    "\n",
    "umat = [Inf 0; Inf 1.5; Inf Inf]\n",
    "u = NamedArray( umat, (types,counties), (\"type\",\"county\") )\n",
    "\n",
    "lmat = [0 0; 0 0; 0 2]\n",
    "l = NamedArray( lmat, (types,counties), (\"type\",\"county\") )\n",
    "\n",
    "u"
   ]
  },
  {
   "cell_type": "markdown",
   "metadata": {},
   "source": [
    "Now, let's define the model."
   ]
  },
  {
   "cell_type": "code",
   "execution_count": 10,
   "metadata": {},
   "outputs": [
    {
     "ename": "LoadError",
     "evalue": "LoadError: At In[10]:11: `@constraint(power, demand, sum((sum((x[i, j] for j = counties)) for i = types)))`: Unsupported constraint expression: we don't know how to parse constraints containing the operator sum.\n\nIf you are writing a JuMP extension, implement `parse_constraint_call(::Function, ::Bool, ::Val{sum}, args...)\nin expression starting at In[10]:11",
     "output_type": "error",
     "traceback": [
      "LoadError: At In[10]:11: `@constraint(power, demand, sum((sum((x[i, j] for j = counties)) for i = types)))`: Unsupported constraint expression: we don't know how to parse constraints containing the operator sum.\n\nIf you are writing a JuMP extension, implement `parse_constraint_call(::Function, ::Bool, ::Val{sum}, args...)\nin expression starting at In[10]:11",
      "",
      "Stacktrace:",
      " [1] error(::String, ::String)",
      "   @ Base .\\error.jl:44",
      " [2] (::JuMP.Containers.var\"#error_fn#98\"{String})(str::String)",
      "   @ JuMP.Containers C:\\Users\\dz28l\\.julia\\packages\\JuMP\\CU7H5\\src\\Containers\\macro.jl:336",
      " [3] parse_constraint_call(error_fn::JuMP.Containers.var\"#error_fn#98\"{String}, ::Bool, ::Val{:sum}, args::Expr)",
      "   @ JuMP C:\\Users\\dz28l\\.julia\\packages\\JuMP\\CU7H5\\src\\macros\\@constraint.jl:751",
      " [4] parse_constraint_head(error_fn::Function, ::Val{:call}, op::Symbol, args::Expr)",
      "   @ JuMP C:\\Users\\dz28l\\.julia\\packages\\JuMP\\CU7H5\\src\\macros\\@constraint.jl:446",
      " [5] parse_constraint(error_fn::Function, expr::Expr)",
      "   @ JuMP C:\\Users\\dz28l\\.julia\\packages\\JuMP\\CU7H5\\src\\macros\\@constraint.jl:307",
      " [6] var\"@constraint\"(__source__::LineNumberNode, __module__::Module, input_args::Vararg{Any})",
      "   @ JuMP C:\\Users\\dz28l\\.julia\\packages\\JuMP\\CU7H5\\src\\macros\\@constraint.jl:140"
     ]
    }
   ],
   "source": [
    "using JuMP\n",
    "using HiGHS\n",
    "\n",
    "#Define model object\n",
    "power = Model(HiGHS.Optimizer)\n",
    "\n",
    "#Variable definitions including both lower and upper bounds\n",
    "@variable(power, l[i,j] <= x[i in types, j in counties] <= u[i,j]) \n",
    "\n",
    "#Additional Demand constraint\n",
    "@constraint(power, demand, sum(sum(x[i,j] for j in counties) for i in types)) #This is wrong rnw lol\n",
    "\n",
    "#Emissions Constraint\n",
    "@constraint(power, emissions, sum(e[i] * sum(x[i,j] for j in counties) for i in types <=) <= emax)\n",
    "\n",
    "#Objective Function\n",
    "@objective(power, Min, sum(sum(c[i,j]*x[i,j] for j in counties) for i in types))\n",
    "\n",
    "print(power)"
   ]
  },
  {
   "cell_type": "code",
   "execution_count": null,
   "metadata": {},
   "outputs": [],
   "source": [
    "optimize!(power)"
   ]
  },
  {
   "cell_type": "code",
   "execution_count": null,
   "metadata": {},
   "outputs": [],
   "source": [
    "@show objective_value(power);\n",
    "@show value.(x);"
   ]
  }
 ],
 "metadata": {
  "kernelspec": {
   "display_name": "Julia 1.11.3",
   "language": "julia",
   "name": "julia-1.11"
  },
  "language_info": {
   "file_extension": ".jl",
   "mimetype": "application/julia",
   "name": "julia",
   "version": "1.11.3"
  }
 },
 "nbformat": 4,
 "nbformat_minor": 4
}
