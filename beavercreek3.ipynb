{
 "cells": [
  {
   "cell_type": "markdown",
   "metadata": {},
   "source": [
    "# The Beaver Creek Pottery Problem - Formulation 3"
   ]
  },
  {
   "cell_type": "markdown",
   "metadata": {},
   "source": [
    "The Beaver Creek Pottery Co. produces artisanal clay bowls and mugs using two primary resources: skilled labor and clay.\n",
    "\n",
    "Each bowl requires 1 hour of labor and 4 pounds of clay.\n",
    "\n",
    "Each mug requires 2 hours of labor and 3 pounds of clay.\n",
    "\n",
    "Each bowl is sold at a profit of $\\$40$, each mug at a profit of $\\$50$.\n",
    "\n",
    "The company's resources are limited; they have 40 hours of labor and 120 pounds of clay available each day.  \n",
    "\n",
    "Goal: Determine the number of bowls and mugs that the company should make each day in order to maximize profit given their limited resources.\n",
    "\n",
    "To model this problem, let $x_1$ denote the number of bowls produced and $x_2$ the number of mugs produced. Then, this can be formulated as the following LP:\n",
    "\n",
    "\\begin{align*}\n",
    "\t\\underset{x_1, x_2}{\\max} \\quad &40x_1 + 50x_2 \\\\\n",
    "\t\\text{s.t.} \\quad & 4x_1 + 3x_2 \\leq 120 \\\\\n",
    "    & x_1+2x_2 \\leq 40 \\\\\n",
    "    & x_1 \\geq 0, \\; x_2 \\geq 0\n",
    "\\end{align*}\n",
    "\n",
    "Let's model this problem using JuMP."
   ]
  },
  {
   "cell_type": "markdown",
   "metadata": {},
   "source": [
    "### Problem Data"
   ]
  },
  {
   "cell_type": "code",
   "execution_count": null,
   "metadata": {},
   "outputs": [],
   "source": [
    "#Types of pottery produced\n",
    "products = [:bowl, :mug]\n",
    "\n",
    "#Resources involved\n",
    "resources = [:labor, :clay]\n",
    "\n",
    "#Profit made from each type\n",
    "profit = Dict(zip(products, [40,50]))\n",
    "\n",
    "#Available quantities of each resource\n",
    "quant_avail = Dict(zip(resources, [40, 120]));\n",
    "\n",
    "#If you haven't installed this before\n",
    "#using Pkg\n",
    "#Pkg.add(\"NamedArrays\")\n",
    "using NamedArrays\n",
    "# resource requirements (resource, product)\n",
    "resource_reqs = [ 1 2; 4 3 ]\n",
    "A = NamedArray( resource_reqs, (resources,products),\n",
    "(\"resource\",\"product\") )"
   ]
  },
  {
   "cell_type": "code",
   "execution_count": null,
   "metadata": {},
   "outputs": [],
   "source": [
    "#Import JuMP package to build an optimization model\n",
    "using JuMP\n",
    "#Import HiGHS solver\n",
    "using HiGHS\n",
    "\n",
    "#Create a JuMP model named beavercreek3 that will be solved using the HiGHS solver\n",
    "beavercreek3 = Model(HiGHS.Optimizer);\n",
    "\n",
    "#Add nonnegative variables for bowl and mug production\n",
    "@variable(beavercreek3, x[products] >= 0);\n",
    "\n",
    "#Create the constraints, name them constraint1 and constraint2\n",
    "@constraint(beavercreek3, constraint[r in resources], sum(A[r,p]*x[p] for p in products) <= quant_avail[r]);\n",
    "\n",
    "@expression(beavercreek3, objfun, sum(profit[i]*x[i] for i in products))\n",
    "\n",
    "#Create our objective function and set it for maximization\n",
    "@objective(beavercreek3, Max, objfun);\n",
    "\n",
    "#Print the model\n",
    "print(beavercreek3)\n",
    "#If you have the LaTeX extension in VSCode installed, print the model in a nicer format\n",
    "#latex_formulation(beavercreek3)"
   ]
  },
  {
   "cell_type": "code",
   "execution_count": null,
   "metadata": {},
   "outputs": [],
   "source": [
    "#Solve the model\n",
    "optimize!(beavercreek3);"
   ]
  },
  {
   "cell_type": "code",
   "execution_count": null,
   "metadata": {},
   "outputs": [],
   "source": [
    "@show objective_value(beavercreek3);\n",
    "\n",
    "println(value.(x))"
   ]
  },
  {
   "cell_type": "markdown",
   "metadata": {},
   "source": [
    "Suppose that Beaver Creek Pottery has decided to produce a third product: dinner plates. It takes 1 hour of labor and 2 pounds of clay to produce one dinner plate, and each dinner plate nets a profit of $\\$30$. To update our model, we just need to change the data!"
   ]
  },
  {
   "cell_type": "code",
   "execution_count": null,
   "metadata": {},
   "outputs": [],
   "source": [
    "#Types of pottery produced\n",
    "products = [:bowl, :mug, :plate]\n",
    "\n",
    "#Profit made from each type\n",
    "profit = Dict(zip(products, [40,50,30]))\n",
    "\n",
    "#If you haven't installed this before\n",
    "#using Pkg\n",
    "#Pkg.add(\"NamedArrays\")\n",
    "using NamedArrays\n",
    "# resource requirements (resource, product)\n",
    "resource_reqs = [ 1 2 1; 4 3 2 ]\n",
    "A = NamedArray( resource_reqs, (resources,products),\n",
    "(\"resource\",\"product\") )"
   ]
  },
  {
   "cell_type": "code",
   "execution_count": null,
   "metadata": {},
   "outputs": [],
   "source": [
    "beavercreekupdated = Model(HiGHS.Optimizer);\n",
    "\n",
    "#Add the variables frame[:type_1] and frame[:type_2] that are nonnegative\n",
    "@variable(beavercreekupdated, x[products] >= 0);\n",
    "\n",
    "#Create the constraints, name them constraint1 and constraint2\n",
    "@constraint(beavercreekupdated, constraint[r in resources], sum(A[r,p]*x[p] for p in products) <= quant_avail[r]);\n",
    "\n",
    "#Create our objective function and set it for maximization\n",
    "@objective(beavercreekupdated, Max, sum(profit[i]*x[i] for i in products));\n",
    "\n",
    "print(beavercreekupdated)\n",
    "#latex_formulation(beavercreekupdated)"
   ]
  },
  {
   "cell_type": "code",
   "execution_count": null,
   "metadata": {},
   "outputs": [],
   "source": [
    "#Solve the model\n",
    "optimize!(beavercreekupdated);"
   ]
  },
  {
   "cell_type": "code",
   "execution_count": null,
   "metadata": {},
   "outputs": [],
   "source": [
    "#Final objective value\n",
    "@show objective_value(beavercreekupdated);\n",
    "\n",
    "println(value.(x))"
   ]
  },
  {
   "cell_type": "code",
   "execution_count": null,
   "metadata": {},
   "outputs": [],
   "source": []
  }
 ],
 "metadata": {
  "kernelspec": {
   "display_name": "Julia 1.11.2",
   "language": "julia",
   "name": "julia-1.11"
  },
  "language_info": {
   "file_extension": ".jl",
   "mimetype": "application/julia",
   "name": "julia",
   "version": "1.11.2"
  }
 },
 "nbformat": 4,
 "nbformat_minor": 4
}
