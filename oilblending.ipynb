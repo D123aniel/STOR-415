{
 "cells": [
  {
   "cell_type": "markdown",
   "metadata": {},
   "source": [
    "##  Oil Blending\n",
    "\n",
    "Sunco Oil manufactures three types of gasoline (gas-1, gas-2, gas-3). Each type of gasoline is produced by blending three types of crude oil (crude-1, crude-2, crude-3). Details are as follows:\n",
    "\n",
    "- Purchase prices for each type of crude oil:\n",
    "\n",
    "|Type | Price/Barrel |\n",
    "|:-----------:|:---------------------------:|\n",
    "| crude-1 | \\$45 |\n",
    "| crude-2 | \\$35 |\n",
    "| crude-3 | \\$25 |\n",
    "\n",
    "- Sale prices of each type of gasoline:\n",
    "\n",
    "|Type | Price/Barrel | \n",
    "|:---------:|:------------------------:|\n",
    "|gas-1 | \\$70 |\n",
    "|gas-2 | \\$60 |\n",
    "|gas-3 | \\$50 | \n",
    "\n",
    "- Sunco can purchase up to 5000 barrels of each type of crude oil daily, and their refinery can produce up to 14000 barrels of gasoline daily.\n",
    "- It costs $4 to transform one barrel of oil into one barrel of gasoline.\n",
    "  \n",
    "- The 3 types of crude oil have different octane levels and sulfur contents:\n",
    "\n",
    "|Type | Octane | Sulfur (%) |\n",
    "|:----:|:-----:|:---:|\n",
    "| crude-1 | 12 | 0.5 |\n",
    "| crude-2 | 6 | 2.0 |\n",
    "| crude-3 | 8 | 3.0 |\n",
    "\n",
    "- When different types of crude oil are mixed, octane levels and sulfur contents blend linearly.\n",
    "\n",
    "- Each type of gasoline has different requirements for **average** octane level and sulfur content:\n",
    "    - Average octane levels of **at least** 10 for gas-1, at least 8 for gas-2, and at least 6 for gas-3.\n",
    "    - Average sulfur content of **at most** 1\\% for gas-1, at most 2\\% for gas-2, and at most 1\\% for gas-3.\n",
    "<br/><br/>\n",
    "\n",
    "- Sunco is contractually obligated to supply (at a minimum) the following amounts of each type of gasoline:\n",
    "\n",
    "|Type | Barrels/day|\n",
    "|:---------:|:---------:|\n",
    "| gas-1 | 3000 |\n",
    "| gas-2 | 2000 |\n",
    "| gas-3 | 1000 |\n",
    "\n",
    "**Goal:** Devise a production to maximize daily profit (revenue $-$ cost) while meeting supply, production, and demand requirements."
   ]
  },
  {
   "cell_type": "markdown",
   "metadata": {},
   "source": [
    "To solve this problem, we use decision variables $x_{ij}$ which represent the number of barrels of crude-$i$ used to produce gas-$j$.\n",
    "\n",
    "We organize the data in terms of the type of crude oil and the type of gasoline as follows."
   ]
  },
  {
   "cell_type": "code",
   "execution_count": null,
   "metadata": {},
   "outputs": [],
   "source": [
    "#Types of crude oil and gas stored as vectors of symbols\n",
    "crudetypes = [:crude_1, :crude_2, :crude_3]\n",
    "gastypes = [:gas_1, :gas_2, :gas_3]\n",
    "\n",
    "#Dictionaries for purchase prices of each crude type, sale prices of each gas type\n",
    "purchaseprices = Dict(zip(crudetypes, [45, 35, 25]))\n",
    "saleprices = Dict(zip(gastypes, [70, 60, 50]))\n",
    "\n",
    "#Dictionaries for octane levels and sulfur contents of each crude oil type\n",
    "octanecrude = Dict(zip(crudetypes, [12,6,8]))\n",
    "sulfurcrude = Dict(zip(crudetypes, [0.005,0.02,0.03]))\n",
    "\n",
    "#Dictionaries for minimum average octane levels, maximum average sulfur levels in each type of gasoline\n",
    "octanegas = Dict(zip(gastypes, [10, 8, 6]))\n",
    "sulfurgas = Dict(zip(gastypes, [0.01, 0.02, 0.01]))\n",
    "\n",
    "#Dictionary for demand of each type of gasoline\n",
    "demands = Dict(zip(gastypes, [3000, 2000, 1000]))\n",
    "\n",
    "#Daily purchase limits (in barrels) on each type of crude oil\n",
    "supplies = Dict(zip(crudetypes, [5000, 5000, 5000]))\n",
    "\n",
    "#Cost to transform one barrel of crude into one barrel of gasoline\n",
    "transformcost = 4\n",
    "#Maximum gasoline production per day (in barrels)\n",
    "maxproduction = 14000;"
   ]
  },
  {
   "cell_type": "markdown",
   "metadata": {},
   "source": [
    "Now, we can create our model."
   ]
  },
  {
   "cell_type": "code",
   "execution_count": null,
   "metadata": {},
   "outputs": [],
   "source": [
    "using JuMP, HiGHS\n",
    "\n",
    "m = Model(HiGHS.Optimizer)\n",
    "\n",
    "@variable(m, x[crudetypes, gastypes] >= 0)\n",
    "\n",
    "#Maximum amount produced per day\n",
    "@constraint(m, mprodconstraint, sum(sum(x[i,j] for j in gastypes) for i in crudetypes) <= maxproduction)\n",
    "\n",
    "#Maximum amounts of each type of crude that can be purchased\n",
    "@constraint(m, mpurconstraint[i in crudetypes], sum(x[i,j] for j in gastypes) <= supplies[i])\n",
    "\n",
    "#Meet demand obligations\n",
    "@constraint(m, meetdemand[j in gastypes], sum(x[i,j] for i in crudetypes) >= demands[j])\n",
    "\n",
    "#Minimum average octane constraint\n",
    "@constraint(m, minoctane[j in gastypes], sum(octanecrude[i]*x[i,j] for i in crudetypes)\n",
    "                                        >= sum(octanegas[j]*x[i,j] for i in crudetypes))\n",
    "#Maximum average sulfur constraint\n",
    "@constraint(m, maxsulfur[j in gastypes], sum(sulfurcrude[i]*x[i,j] for i in crudetypes)\n",
    "                                        <= sum(sulfurgas[j]*x[i,j] for i in crudetypes))\n",
    "\n",
    "#Objective is revenue (sales) minus cost (purchase and conversion)\n",
    "@objective(m, Max, sum(saleprices[j]*sum(x[i,j] for i in crudetypes) for j in gastypes)\n",
    "    - sum((purchaseprices[i]+transformcost)*sum(x[i,j] for j in gastypes) for i in crudetypes))\n",
    "\n",
    "print(m)"
   ]
  },
  {
   "cell_type": "code",
   "execution_count": null,
   "metadata": {},
   "outputs": [],
   "source": [
    "#Solve model and store optimal objective and variable values\n",
    "optimize!(m)\n",
    "blend = value.(x)\n",
    "objval = objective_value(m)\n",
    "\n",
    "#Print status of model\n",
    "println(\"\\nSolver terminated with status \",termination_status(m))\n",
    "\n",
    "#Only print out optimal solution if there is one\n",
    "if is_solved_and_feasible(m)\n",
    "    for j in gastypes\n",
    "        println(\"\\nBlend\")\n",
    "        for i in crudetypes\n",
    "            println(\"\\r\",round(blend[i,j]),\" barrels of \",i,\", \")\n",
    "        end\n",
    "        println(\"\\ninto \",sum(blend[i,j] for i in crudetypes),\" barrels of \",j,\".\")\n",
    "    end\n",
    "end\n",
    "\n",
    "println(\"\\nMaximum daily profit: \\$\",objval)"
   ]
  },
  {
   "cell_type": "code",
   "execution_count": null,
   "metadata": {},
   "outputs": [],
   "source": [
    "#Generate sensitivity report\n",
    "report = lp_sensitivity_report(m)"
   ]
  },
  {
   "cell_type": "code",
   "execution_count": null,
   "metadata": {},
   "outputs": [],
   "source": [
    "x33_range = report[x[:crude_3,:gas_3]]\n",
    "println(\"c[:crude_3,:gas_3] can stay between \", coefficient(objective_function(m), x[:crude_3,:gas_3])+x33_range[1], \n",
    "    \" and \", coefficient(objective_function(m), x[:crude_3,:gas_3])+x33_range[2])\n",
    "\n",
    "gas1_range = report[meetdemand[:gas_1]]\n",
    "println(\"Demand for gas-1 can stay between \", demands[:gas_1]+gas1_range[1], \" and \", demands[:gas_1]+gas1_range[2])"
   ]
  },
  {
   "cell_type": "code",
   "execution_count": null,
   "metadata": {},
   "outputs": [],
   "source": []
  }
 ],
 "metadata": {
  "kernelspec": {
   "display_name": "Julia 1.11.2",
   "language": "julia",
   "name": "julia-1.11"
  },
  "language_info": {
   "file_extension": ".jl",
   "mimetype": "application/julia",
   "name": "julia",
   "version": "1.11.2"
  }
 },
 "nbformat": 4,
 "nbformat_minor": 4
}
