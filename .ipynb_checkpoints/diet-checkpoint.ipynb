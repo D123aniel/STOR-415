{
 "cells": [
  {
   "cell_type": "code",
   "execution_count": 1,
   "metadata": {
    "scrolled": true
   },
   "outputs": [
    {
     "name": "stderr",
     "output_type": "stream",
     "text": [
      "\u001b[32m\u001b[1m   Resolving\u001b[22m\u001b[39m package versions...\n",
      "\u001b[32m\u001b[1m  No Changes\u001b[22m\u001b[39m to `C:\\Users\\dz28l\\.julia\\environments\\v1.11\\Project.toml`\n",
      "\u001b[32m\u001b[1m  No Changes\u001b[22m\u001b[39m to `C:\\Users\\dz28l\\.julia\\environments\\v1.11\\Manifest.toml`\n",
      "\u001b[32m\u001b[1m   Resolving\u001b[22m\u001b[39m package versions...\n",
      "\u001b[32m\u001b[1m  No Changes\u001b[22m\u001b[39m to `C:\\Users\\dz28l\\.julia\\environments\\v1.11\\Project.toml`\n",
      "\u001b[32m\u001b[1m  No Changes\u001b[22m\u001b[39m to `C:\\Users\\dz28l\\.julia\\environments\\v1.11\\Manifest.toml`\n"
     ]
    }
   ],
   "source": [
    "# import Pkg;\n",
    "# Pkg.add(\"HiGHS\")\n",
    "# Pkg.add(\"JuMP\")"
   ]
  },
  {
   "cell_type": "code",
   "execution_count": 3,
   "metadata": {},
   "outputs": [],
   "source": [
    "using HiGHS;\n",
    "using JuMP;"
   ]
  },
  {
   "cell_type": "code",
   "execution_count": 5,
   "metadata": {},
   "outputs": [],
   "source": [
    "toddler = Model(HiGHS.Optimizer)\n",
    "\n",
    "@variable(toddler, x1>=0);\n",
    "@variable(toddler, x2>=0);\n",
    "@variable(toddler, x3>=0);\n",
    "@variable(toddler, x4>=0);\n",
    "@variable(toddler, x5>=0);\n",
    "\n",
    "@constraint(toddler, calories, 23x1+171x2+65x3+112x4+188x5 >= 2000);\n",
    "@constraint(toddler, fat, 0.1x1+0.2x2+9.3x4+16x5 >= 50);\n",
    "@constraint(toddler, protein, 0.6x1+3.7x2+2.2x3+7x4+7.7x5 >= 100);\n",
    "@constraint(toddler, carbs, 6x1+30x2+13x3+2x5 >= 250);\n",
    "\n",
    "@objective(toddler, Min, 0.14x1+0.12x2+0.2x3+0.75x4+0.15x5);"
   ]
  },
  {
   "cell_type": "code",
   "execution_count": 6,
   "metadata": {},
   "outputs": [
    {
     "name": "stdout",
     "output_type": "stream",
     "text": [
      "Running HiGHS 1.9.0 (git hash: 66f735e60): Copyright (c) 2024 HiGHS under MIT licence terms\n",
      "Coefficient ranges:\n",
      "  Matrix [1e-01, 2e+02]\n",
      "  Cost   [1e-01, 8e-01]\n",
      "  Bound  [0e+00, 0e+00]\n",
      "  RHS    [5e+01, 2e+03]\n",
      "Presolving model\n",
      "4 rows, 4 cols, 15 nonzeros  0s\n",
      "4 rows, 2 cols, 8 nonzeros  0s\n",
      "Presolve : Reductions: rows 4(-0); columns 2(-3); elements 8(-10)\n",
      "Solving the presolved LP\n",
      "Using EKK dual simplex solver - serial\n",
      "  Iteration        Objective     Infeasibilities num(sum)\n",
      "          0     0.0000000000e+00 Pr: 4(975) 0s\n",
      "          3     2.3177549195e+00 Pr: 0(0) 0s\n",
      "Solving the original LP from the solution after postsolve\n",
      "Model status        : Optimal\n",
      "Simplex   iterations: 3\n",
      "Objective value     :  2.3177549195e+00\n",
      "Relative P-D gap    :  0.0000000000e+00\n",
      "HiGHS run time      :          0.00\n",
      "* Solver : HiGHS(toddler) = \n",
      "\n",
      "* Status\n",
      "  Result count       : 1\n",
      "  Termination status : OPTIMAL\n",
      "  Message from the solver:\n",
      "  \"kHighsModelStatusOptimal\"\n",
      "\n",
      "* Candidate solution (result #1)\n",
      "  Primal status      : FEASIBLE_POINT\n",
      "  Dual status        : FEASIBLE_POINT\n",
      "  Objective value    : 2.31775e+00\n",
      "  Objective bound    : 2.31775e+00\n",
      "  Relative gap       : 0.00000e+00\n",
      "  Dual objective value : 2.31775e+00\n",
      "\n",
      "* Work counters\n",
      "  Solve time (sec)   : 3.80039e-04\n",
      "  Simplex iterations : 3\n",
      "  Barrier iterations : 0\n",
      "  Node count         : -1\n",
      "\n"
     ]
    }
   ],
   "source": [
    "optimize!(toddler);\n",
    "@show solution_summary(toddler);"
   ]
  },
  {
   "cell_type": "code",
   "execution_count": 7,
   "metadata": {},
   "outputs": [
    {
     "name": "stdout",
     "output_type": "stream",
     "text": [
      "objective_value(toddler) = 2.3177549194991056\n",
      "value(x1) = 0.0\n",
      "value(x2) = 7.714669051878355\n",
      "value(x3) = 0.0\n",
      "value(x4) = 0.0\n",
      "value(x5) = 9.279964221824686\n"
     ]
    },
    {
     "data": {
      "text/plain": [
       "9.279964221824686"
      ]
     },
     "execution_count": 7,
     "metadata": {},
     "output_type": "execute_result"
    }
   ],
   "source": [
    "@show objective_value(toddler)\n",
    "@show value(x1)\n",
    "@show value(x2)\n",
    "@show value(x3)\n",
    "@show value(x4)\n",
    "@show value(x5)"
   ]
  },
  {
   "cell_type": "code",
   "execution_count": null,
   "metadata": {},
   "outputs": [],
   "source": []
  }
 ],
 "metadata": {
  "kernelspec": {
   "display_name": "Julia 1.11.3",
   "language": "julia",
   "name": "julia-1.11"
  },
  "language_info": {
   "file_extension": ".jl",
   "mimetype": "application/julia",
   "name": "julia",
   "version": "1.11.3"
  }
 },
 "nbformat": 4,
 "nbformat_minor": 4
}
