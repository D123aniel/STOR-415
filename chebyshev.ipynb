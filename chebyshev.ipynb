{
 "cells": [
  {
   "cell_type": "markdown",
   "metadata": {},
   "source": [
    "# Chebyshev center\n",
    "\n",
    "Find the center and radius of the largest sphere completely contained within the polyhedron $P$ given below:\n",
    "$$ P=\\left\\{\\mathbf{x}\\in\\mathbb{R}^3 : \\; 2 x_1 - x_2 + 2 x_3 \\le 2,\\;\\;\n",
    "-x_1 + 2 x_2 + 4 x_3 \\le 16,\\;\\;\n",
    "x_1 + 2 x_2 - 2 x_3 \\le 8,\\;\\;\n",
    "x_1 \\ge 0,\\;\n",
    "x_2 \\ge 0,\\;\n",
    "x_3 \\ge 0 \\right\\}$$"
   ]
  },
  {
   "cell_type": "code",
   "execution_count": null,
   "metadata": {},
   "outputs": [],
   "source": [
    "#Encoding hyperplanes in one big system Ax = b after converting all inequalities to <=\n",
    "A = [2 -1 2; -1 2 4; 1 2 -2; -1 0 0; 0 -1 0; 0 0 -1];\n",
    "b = [2; 16; 8; 0; 0; 0]\n",
    "\n",
    "#If you have not used LinearAlgebra before, make sure to install it with\n",
    "# using Pkg\n",
    "# Pkg.add(\"LinearAlgebra\")\n",
    "using JuMP, HiGHS, LinearAlgebra\n",
    "\n",
    "m = Model(HiGHS.Optimizer)\n",
    "@variable(m, r >= 0)           # radius\n",
    "@variable(m, y[1:3])           # coordinates of center\n",
    "@constraint(m, inequality[i in 1:length(b)], r <= (1/norm(A[i,:]))*(b[i] - sum(A[i,j]*y[j] for j in 1:3)))\n",
    "@objective(m, Max, r)     # maximize radius\n",
    "\n",
    "status = optimize!(m)\n",
    "\n",
    "println(\"Coordinates of the Chebyshev center are: \")\n",
    "println(value.(y))\n",
    "println(\"The largest possible radius is: \", value(r))"
   ]
  },
  {
   "cell_type": "code",
   "execution_count": null,
   "metadata": {},
   "outputs": [],
   "source": []
  }
 ],
 "metadata": {
  "kernelspec": {
   "display_name": "Julia 1.11.2",
   "language": "julia",
   "name": "julia-1.11"
  },
  "language_info": {
   "file_extension": ".jl",
   "mimetype": "application/julia",
   "name": "julia",
   "version": "1.11.2"
  }
 },
 "nbformat": 4,
 "nbformat_minor": 4
}
