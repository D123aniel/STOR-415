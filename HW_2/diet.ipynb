{
 "cells": [
  {
   "cell_type": "code",
   "execution_count": 3,
   "metadata": {
    "scrolled": true
   },
   "outputs": [],
   "source": [
    "# import Pkg;\n",
    "# Pkg.add(\"HiGHS\")\n",
    "# Pkg.add(\"JuMP\")"
   ]
  },
  {
   "cell_type": "markdown",
   "metadata": {},
   "source": [
    "### Question 1: Written Model\n",
    "\n",
    "**Variable defintions**: \\\n",
    "x<sub>1</sub>: Raw Carrots \\\n",
    "x<sub>2</sub>: Baked Potatoes \\\n",
    "x<sub>3</sub>: Wheat Bread \\\n",
    "x<sub>4</sub>: Cheddar Cheese \\\n",
    "x<sub>5</sub>: Peanut Butter\n",
    "\n",
    "**Objective Function**: \\\n",
    "min 0.14x<sub>1</sub> + 0.12x<sub>2</sub> + 0.2x<sub>3</sub> + 0.75x<sub>4</sub> + 0.15x<sub>5</sub>\n",
    "\n",
    "**Constraints**: \\\n",
    "23x<sub>1</sub> + 171x<sub>2</sub> + 65x<sub>3</sub> + 112x<sub>4</sub> + 188x<sub>5</sub> >= 2000 \\\n",
    "0.1x<sub>1</sub> + 0.2x<sub>2</sub> + 9.3x<sub>4</sub> + 16x<sub>5</sub> >= 50 \\\n",
    "0.6x<sub>1</sub> + 3.7x<sub>2</sub> + 2.2x<sub>3</sub> + 7x<sub>4</sub> + 7.7x<sub>5</sub> >= 100 \\\n",
    "6x<sub>1</sub> + 30x<sub>2</sub> + 13x<sub>3</sub> + 2x<sub>5</sub> >= 250"
   ]
  },
  {
   "cell_type": "code",
   "execution_count": 2,
   "metadata": {},
   "outputs": [],
   "source": [
    "using HiGHS;\n",
    "using JuMP;"
   ]
  },
  {
   "cell_type": "code",
   "execution_count": 5,
   "metadata": {},
   "outputs": [],
   "source": [
    "toddler = Model(HiGHS.Optimizer)\n",
    "\n",
    "@variable(toddler, x1>=0);\n",
    "@variable(toddler, x2>=0);\n",
    "@variable(toddler, x3>=0);\n",
    "@variable(toddler, x4>=0);\n",
    "@variable(toddler, x5>=0);\n",
    "\n",
    "@constraint(toddler, calories, 23x1+171x2+65x3+112x4+188x5 >= 2000);\n",
    "@constraint(toddler, fat, 0.1x1+0.2x2+9.3x4+16x5 >= 50);\n",
    "@constraint(toddler, protein, 0.6x1+3.7x2+2.2x3+7x4+7.7x5 >= 100);\n",
    "@constraint(toddler, carbs, 6x1+30x2+13x3+2x5 >= 250);\n",
    "\n",
    "@objective(toddler, Min, 0.14x1+0.12x2+0.2x3+0.75x4+0.15x5);"
   ]
  },
  {
   "cell_type": "code",
   "execution_count": 9,
   "metadata": {},
   "outputs": [
    {
     "name": "stdout",
     "output_type": "stream",
     "text": [
      "Coefficient ranges:\n",
      "  Matrix [1e-01, 2e+02]\n",
      "  Cost   [1e-01, 8e-01]\n",
      "  Bound  [0e+00, 0e+00]\n",
      "  RHS    [5e+01, 2e+03]\n",
      "Solving LP without presolve, or with basis, or unconstrained\n",
      "Model status        : Optimal\n",
      "Objective value     :  2.3177549195e+00\n",
      "Relative P-D gap    :  0.0000000000e+00\n",
      "HiGHS run time      :          0.00\n"
     ]
    }
   ],
   "source": [
    "optimize!(toddler);"
   ]
  },
  {
   "cell_type": "code",
   "execution_count": 10,
   "metadata": {},
   "outputs": [
    {
     "name": "stdout",
     "output_type": "stream",
     "text": [
      "objective_value(toddler) = 2.3177549194991056\n",
      "value(x1) = 0.0\n",
      "value(x2) = 7.714669051878355\n",
      "value(x3) = 0.0\n",
      "value(x4) = 0.0\n",
      "value(x5) = 9.279964221824686\n"
     ]
    },
    {
     "data": {
      "text/plain": [
       "9.279964221824686"
      ]
     },
     "metadata": {},
     "output_type": "display_data"
    }
   ],
   "source": [
    "@show objective_value(toddler)\n",
    "@show value(x1)\n",
    "@show value(x2)\n",
    "@show value(x3)\n",
    "@show value(x4)\n",
    "@show value(x5)"
   ]
  },
  {
   "cell_type": "markdown",
   "metadata": {},
   "source": [
    "### Question 2: Written Model"
   ]
  },
  {
   "cell_type": "code",
   "execution_count": 4,
   "metadata": {},
   "outputs": [
    {
     "data": {
      "text/plain": [
       "Dict{Symbol, Float64} with 2 entries:\n",
       "  :slowdown   => 4.25\n",
       "  :easydoesit => 3.95"
      ]
     },
     "metadata": {},
     "output_type": "display_data"
    }
   ],
   "source": [
    "model = Model(HiGHS.Optimizer)\n",
    "types = [:colombian, :kenyan, :indonesian]\n",
    "blends = [:easydoesit, :slowdown]\n",
    "\n",
    "supply = Dict(zip(types, [550, 450, 650]))\n",
    "cost = Dict(zip(types, [1, 0.85, 1.55]))\n",
    "revenue = Dict(zip(blends, [3.95, 4.25]))"
   ]
  },
  {
   "cell_type": "code",
   "execution_count": null,
   "metadata": {},
   "outputs": [],
   "source": []
  }
 ],
 "metadata": {
  "kernelspec": {
   "display_name": "Julia 1.11.3",
   "language": "julia",
   "name": "julia-1.11"
  },
  "language_info": {
   "file_extension": ".jl",
   "mimetype": "application/julia",
   "name": "julia",
   "version": "1.11.3"
  }
 },
 "nbformat": 4,
 "nbformat_minor": 4
}
