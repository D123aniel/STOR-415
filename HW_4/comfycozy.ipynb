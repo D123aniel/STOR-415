{
 "cells": [
  {
   "cell_type": "code",
   "execution_count": 4,
   "metadata": {},
   "outputs": [],
   "source": [
    "using JuMP, HiGHS"
   ]
  },
  {
   "cell_type": "code",
   "execution_count": 15,
   "metadata": {},
   "outputs": [],
   "source": [
    "num_warehouse = 4\n",
    "num_store = 3\n",
    "\n",
    "costs = [25 35 25;\n",
    "         10 30 50;\n",
    "         20 40 30\n",
    "         70 75 65];\n",
    "supply = [30 30 30 45];\n",
    "demand = [45 50 40];"
   ]
  },
  {
   "cell_type": "code",
   "execution_count": 16,
   "metadata": {},
   "outputs": [
    {
     "name": "stdout",
     "output_type": "stream",
     "text": [
      "Running HiGHS 1.9.0 (git hash: 66f735e60): Copyright (c) 2024 HiGHS under MIT licence terms\n",
      "Coefficient ranges:\n",
      "  Matrix [1e+00, 1e+00]\n",
      "  Cost   [1e+01, 8e+01]\n",
      "  Bound  [0e+00, 0e+00]\n",
      "  RHS    [3e+01, 5e+01]\n",
      "Presolving model\n",
      "7 rows, 12 cols, 24 nonzeros  0s\n",
      "6 rows, 12 cols, 20 nonzeros  0s\n",
      "Presolve : Reductions: rows 6(-1); columns 12(-0); elements 20(-4)\n",
      "Solving the presolved LP\n",
      "Using EKK dual simplex solver - serial\n",
      "  Iteration        Objective     Infeasibilities num(sum)\n",
      "          0     0.0000000000e+00 Pr: 6(225) 0s\n",
      "          8     5.2250000000e+03 Pr: 0(0) 0s\n",
      "Solving the original LP from the solution after postsolve\n",
      "Model status        : Optimal\n",
      "Simplex   iterations: 8\n",
      "Objective value     :  5.2250000000e+03\n",
      "Relative P-D gap    :  0.0000000000e+00\n",
      "HiGHS run time      :          0.00\n"
     ]
    }
   ],
   "source": [
    "cozy = Model(HiGHS.Optimizer)\n",
    "\n",
    "@variable(cozy, x[1:num_warehouse, 1:num_store] >= 0)\n",
    "\n",
    "@constraint(cozy, supplyconstraint[i in 1:num_warehouse], sum(x[i,j] for j in 1:num_store) == supply[i])\n",
    "@constraint(cozy, demandconstraint[j in 1:num_store], sum(x[i,j] for i in 1:num_warehouse) == demand[j])\n",
    "\n",
    "@objective(cozy, Min, sum(sum(costs[i,j]*x[i,j] for i in 1:num_warehouse) for j in 1:num_store))\n",
    "\n",
    "optimize!(cozy)"
   ]
  },
  {
   "cell_type": "code",
   "execution_count": 17,
   "metadata": {},
   "outputs": [
    {
     "name": "stdout",
     "output_type": "stream",
     "text": [
      "objective_value(cozy) = 5225.0\n"
     ]
    },
    {
     "data": {
      "text/plain": [
       "5225.0"
      ]
     },
     "metadata": {},
     "output_type": "display_data"
    }
   ],
   "source": [
    "@show objective_value(cozy)"
   ]
  },
  {
   "cell_type": "code",
   "execution_count": null,
   "metadata": {},
   "outputs": [],
   "source": []
  }
 ],
 "metadata": {
  "kernelspec": {
   "display_name": "Julia 1.11.3",
   "language": "julia",
   "name": "julia-1.11"
  },
  "language_info": {
   "file_extension": ".jl",
   "mimetype": "application/julia",
   "name": "julia",
   "version": "1.11.3"
  }
 },
 "nbformat": 4,
 "nbformat_minor": 2
}
