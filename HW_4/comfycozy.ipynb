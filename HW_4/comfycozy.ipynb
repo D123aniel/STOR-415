{
 "cells": [
  {
   "cell_type": "markdown",
   "metadata": {},
   "source": [
    "# Question 1"
   ]
  },
  {
   "cell_type": "code",
   "execution_count": 6,
   "metadata": {},
   "outputs": [],
   "source": [
    "using JuMP, HiGHS"
   ]
  },
  {
   "cell_type": "code",
   "execution_count": 2,
   "metadata": {},
   "outputs": [],
   "source": [
    "num_warehouse = 4\n",
    "num_store = 3\n",
    "\n",
    "costs = [25 35 25;\n",
    "         10 30 50;\n",
    "         20 40 30\n",
    "         70 75 65];\n",
    "supply = [30 30 30 45];\n",
    "demand = [45 50 40];"
   ]
  },
  {
   "cell_type": "code",
   "execution_count": 3,
   "metadata": {},
   "outputs": [
    {
     "name": "stdout",
     "output_type": "stream",
     "text": [
      "Running HiGHS 1.9.0 (git hash: 66f735e60): Copyright (c) 2024 HiGHS under MIT licence terms\n",
      "Coefficient ranges:\n",
      "  Matrix [1e+00, 1e+00]\n",
      "  Cost   [1e+01, 8e+01]\n",
      "  Bound  [0e+00, 0e+00]\n",
      "  RHS    [3e+01, 5e+01]\n",
      "Presolving model\n",
      "7 rows, 12 cols, 24 nonzeros  0s\n",
      "6 rows, 12 cols, 20 nonzeros  0s\n",
      "Presolve : Reductions: rows 6(-1); columns 12(-0); elements 20(-4)\n",
      "Solving the presolved LP\n",
      "Using EKK dual simplex solver - serial\n",
      "  Iteration        Objective     Infeasibilities num(sum)\n",
      "          0     0.0000000000e+00 Pr: 6(225) 0s\n",
      "          8     5.2250000000e+03 Pr: 0(0) 0s\n",
      "Solving the original LP from the solution after postsolve\n",
      "Model status        : Optimal\n",
      "Simplex   iterations: 8\n",
      "Objective value     :  5.2250000000e+03\n",
      "Relative P-D gap    :  0.0000000000e+00\n",
      "HiGHS run time      :          0.00\n"
     ]
    }
   ],
   "source": [
    "cozy = Model(HiGHS.Optimizer)\n",
    "\n",
    "@variable(cozy, x[1:num_warehouse, 1:num_store] >= 0)\n",
    "\n",
    "@constraint(cozy, supplyconstraint[i in 1:num_warehouse], sum(x[i,j] for j in 1:num_store) == supply[i])\n",
    "@constraint(cozy, demandconstraint[j in 1:num_store], sum(x[i,j] for i in 1:num_warehouse) == demand[j])\n",
    "\n",
    "@objective(cozy, Min, sum(sum(costs[i,j]*x[i,j] for i in 1:num_warehouse) for j in 1:num_store))\n",
    "\n",
    "optimize!(cozy)"
   ]
  },
  {
   "cell_type": "code",
   "execution_count": 4,
   "metadata": {},
   "outputs": [
    {
     "name": "stdout",
     "output_type": "stream",
     "text": [
      "objective_value(cozy) = 5225.0\n"
     ]
    },
    {
     "data": {
      "text/plain": [
       "5225.0"
      ]
     },
     "metadata": {},
     "output_type": "display_data"
    }
   ],
   "source": [
    "@show objective_value(cozy)"
   ]
  },
  {
   "cell_type": "markdown",
   "metadata": {},
   "source": [
    "# Question 2"
   ]
  },
  {
   "cell_type": "code",
   "execution_count": 3,
   "metadata": {},
   "outputs": [
    {
     "data": {
      "text/plain": [
       "10-element Vector{Int64}:\n",
       "  300\n",
       "  350\n",
       "  420\n",
       "  100\n",
       " 1150\n",
       " 1250\n",
       " 1270\n",
       " 1330\n",
       "    0\n",
       "    0"
      ]
     },
     "metadata": {},
     "output_type": "display_data"
    }
   ],
   "source": [
    "num_edges = 10\n",
    "\n",
    "A = [1 1 0 0 0 0 0 0 1 0\n",
    "     0 0 1 1 0 0 0 0 0 1\n",
    "     -1 0 -1 0 1 1 0 0 0 0\n",
    "     0 -1 0 -1 0 0 1 1 0 0\n",
    "     0 0 0 0 -1 0 -1 0 0 0\n",
    "     0 0 0 0 0 -1 0 -1 0 0 \n",
    "     0 0 0 0 0 0 0 0 -1 -1]\n",
    "\n",
    "b = [4, 6, 0, 0, -3, -4, -3]\n",
    "\n",
    "costs = [300, 350, 420, 100, 1150, 1250, 1270, 1330, 0, 0]\n"
   ]
  },
  {
   "cell_type": "code",
   "execution_count": 4,
   "metadata": {},
   "outputs": [
    {
     "name": "stdout",
     "output_type": "stream",
     "text": [
      "Min 300 x[1] + 350 x[2] + 420 x[3] + 100 x[4] + 1150 x[5] + 1250 x[6] + 1270 x[7] + 1330 x[8]\n",
      "Subject to\n",
      " supplyanddemand : x[1] + x[2] + x[9] == 4\n",
      " supplyanddemand : x[3] + x[4] + x[10] == 6\n",
      " supplyanddemand : -x[1] - x[3] + x[5] + x[6] == 0\n",
      " supplyanddemand : -x[2] - x[4] + x[7] + x[8] == 0\n",
      " supplyanddemand : -x[5] - x[7] == -3\n",
      " supplyanddemand : -x[6] - x[8] == -4\n",
      " supplyanddemand : -x[9] - x[10] == -3\n",
      " x[1] >= 0\n",
      " x[2] >= 0\n",
      " x[3] >= 0\n",
      " x[4] >= 0\n",
      " x[5] >= 0\n",
      " x[6] >= 0\n",
      " x[7] >= 0\n",
      " x[8] >= 0\n",
      " x[9] >= 0\n",
      " x[10] >= 0\n"
     ]
    }
   ],
   "source": [
    "using JuMP, HiGHS\n",
    "\n",
    "oil = Model(HiGHS.Optimizer)\n",
    "\n",
    "@variable(oil, x[1:num_edges] >= 0)\n",
    "@constraint(oil, supplyanddemand, A*x .== b)\n",
    "\n",
    "@objective(oil, Min, sum(costs[i]*x[i] for i in 1:num_edges))\n",
    "\n",
    "print(oil)"
   ]
  },
  {
   "cell_type": "code",
   "execution_count": 5,
   "metadata": {},
   "outputs": [
    {
     "name": "stdout",
     "output_type": "stream",
     "text": [
      "Running HiGHS 1.9.0 (git hash: 66f735e60): Copyright (c) 2024 HiGHS under MIT licence terms\n",
      "Coefficient ranges:\n",
      "  Matrix [1e+00, 1e+00]\n",
      "  Cost   [1e+02, 1e+03]\n",
      "  Bound  [0e+00, 0e+00]\n",
      "  RHS    [3e+00, 6e+00]\n",
      "Presolving model\n",
      "4 rows, 7 cols, 14 nonzeros  0s\n",
      "3 rows, 7 cols, 11 nonzeros  0s\n",
      "Presolve : Reductions: rows 3(-4); columns 7(-3); elements 11(-9)\n",
      "Solving the presolved LP\n",
      "Using EKK dual simplex solver - serial\n",
      "  Iteration        Objective     Infeasibilities num(sum)\n",
      "          0     8.4500000000e+03 Pr: 2(8) 0s\n",
      "          3     9.9100000000e+03 Pr: 0(0) 0s\n",
      "Solving the original LP from the solution after postsolve\n",
      "Model status        : Optimal\n",
      "Simplex   iterations: 3\n",
      "Objective value     :  9.9100000000e+03\n",
      "Relative P-D gap    :  0.0000000000e+00\n",
      "HiGHS run time      :          0.00\n",
      "objective_value(oil) = 9910.0\n"
     ]
    },
    {
     "data": {
      "text/plain": [
       "9910.0"
      ]
     },
     "metadata": {},
     "output_type": "display_data"
    }
   ],
   "source": [
    "optimize!(oil)\n",
    "@show objective_value(oil)"
   ]
  },
  {
   "cell_type": "code",
   "execution_count": 7,
   "metadata": {},
   "outputs": [
    {
     "name": "stdout",
     "output_type": "stream",
     "text": [
      "value.(x) = [1.0, 0.0, 0.0, 6.0, 1.0, 0.0, 2.0, 4.0, 3.0, 0.0]\n"
     ]
    },
    {
     "data": {
      "text/plain": [
       "10-element Vector{Float64}:\n",
       " 1.0\n",
       " 0.0\n",
       " 0.0\n",
       " 6.0\n",
       " 1.0\n",
       " 0.0\n",
       " 2.0\n",
       " 4.0\n",
       " 3.0\n",
       " 0.0"
      ]
     },
     "metadata": {},
     "output_type": "display_data"
    }
   ],
   "source": [
    "# print all values\n",
    "@show value.(x)\n"
   ]
  },
  {
   "cell_type": "code",
   "execution_count": null,
   "metadata": {},
   "outputs": [],
   "source": []
  }
 ],
 "metadata": {
  "kernelspec": {
   "display_name": "Julia 1.11.3",
   "language": "julia",
   "name": "julia-1.11"
  },
  "language_info": {
   "file_extension": ".jl",
   "mimetype": "application/julia",
   "name": "julia",
   "version": "1.11.3"
  }
 },
 "nbformat": 4,
 "nbformat_minor": 2
}
