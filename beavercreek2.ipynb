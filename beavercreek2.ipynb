{
 "cells": [
  {
   "cell_type": "markdown",
   "metadata": {},
   "source": [
    "# The Beaver Creek Pottery Problem - Formulation 2"
   ]
  },
  {
   "cell_type": "markdown",
   "metadata": {},
   "source": [
    "The Beaver Creek Pottery Co. produces artisanal clay bowls and mugs using two primary resources: skilled labor and clay.\n",
    "\n",
    "Each bowl requires 1 hour of labor and 4 pounds of clay.\n",
    "\n",
    "Each mug requires 2 hours of labor and 3 pounds of clay.\n",
    "\n",
    "Each bowl is sold at a profit of $\\$40$, each mug at a profit of $\\$50$.\n",
    "\n",
    "The company's resources are limited; they have 40 hours of labor and 120 pounds of clay available each day.  \n",
    "\n",
    "Goal: Determine the number of bowls and mugs that the company should make each day in order to maximize profit given their limited resources.\n",
    "\n",
    "To model this problem, let $x_1$ denote the number of bowls produced and $x_2$ the number of mugs produced. Then, this can be formulated as the following LP:\n",
    "\n",
    "\\begin{align*}\n",
    "\t\\underset{x_1, x_2}{\\max} \\quad &40x_1 + 50x_2 \\\\\n",
    "\t\\text{s.t.} \\quad & 4x_1 + 3x_2 \\leq 120 \\\\\n",
    "    & x_1+2x_2 \\leq 40 \\\\\n",
    "    & x_1 \\geq 0, \\; x_2 \\geq 0\n",
    "\\end{align*}\n",
    "\n",
    "Let's model this problem using JuMP."
   ]
  },
  {
   "cell_type": "markdown",
   "metadata": {},
   "source": [
    "### Problem Data"
   ]
  },
  {
   "cell_type": "code",
   "execution_count": null,
   "metadata": {},
   "outputs": [],
   "source": [
    "#Types of pottery produced\n",
    "products = [:bowl, :mug]\n",
    "\n",
    "#Hours of labor required for each product\n",
    "labor = Dict(:bowl => 1, :mug => 2)\n",
    "\n",
    "#Clay required for each product (in pounds)\n",
    "clay = Dict(:bowl => 4, :mug => 3)\n",
    "\n",
    "#Profit made from each type\n",
    "profit = Dict(:bowl => 40, :mug => 50)\n",
    "\n",
    "#Available quantities of each resource\n",
    "avail_labor = 40\n",
    "avail_clay = 120;\n",
    "\n",
    "@show clay"
   ]
  },
  {
   "cell_type": "code",
   "execution_count": null,
   "metadata": {},
   "outputs": [],
   "source": [
    "#Import JuMP package to build an optimization model\n",
    "using JuMP\n",
    "#Import HiGHS solver\n",
    "using HiGHS\n",
    "\n",
    "#Create a JuMP model named beavercreek2 that will be solved using the HiGHS solver\n",
    "beavercreek2 = Model(HiGHS.Optimizer);\n",
    "\n",
    "#Add nonnegative variables for bowl and mug production\n",
    "@variable(beavercreek2, x[products] >= 0);\n",
    "\n",
    "#Create the constraints, name them\n",
    "@constraint(beavercreek2, labor, sum(labor[i]*x[i] for i in products) <= avail_labor);\n",
    "@constraint(beavercreek2, clay, sum(clay[i]*x[i] for i in products) <= avail_clay);\n",
    "\n",
    "#Create our objective function and set it for maximization\n",
    "@objective(beavercreek2, Max, sum(profit[i]*x[i] for i in products));\n",
    "\n",
    "#Print out the model\n",
    "print(beavercreek2)\n",
    "#If you have the LaTeX extension in VSCode installed, print the model in a nicer format\n",
    "#latex_formulation(beavercreek2)"
   ]
  },
  {
   "cell_type": "code",
   "execution_count": null,
   "metadata": {},
   "outputs": [],
   "source": [
    "#Solve the model\n",
    "optimize!(beavercreek2);\n",
    "#Outputs detailed information about the solution process\n",
    "@show solution_summary(beavercreek2);"
   ]
  },
  {
   "cell_type": "code",
   "execution_count": null,
   "metadata": {},
   "outputs": [],
   "source": [
    "#Final optimal objective value\n",
    "@show objective_value(beavercreek2);\n",
    "#Bowl production value for optimal solution\n",
    "@show value(x[:bowl]);\n",
    "#Mug production value for optimal solution\n",
    "@show value(x[:mug]);"
   ]
  },
  {
   "cell_type": "markdown",
   "metadata": {},
   "source": [
    "We can see that the optimal solution matches the solution we got from the first formulation."
   ]
  }
 ],
 "metadata": {
  "kernelspec": {
   "display_name": "Julia 1.11.2",
   "language": "julia",
   "name": "julia-1.11"
  },
  "language_info": {
   "file_extension": ".jl",
   "mimetype": "application/julia",
   "name": "julia",
   "version": "1.11.2"
  }
 },
 "nbformat": 4,
 "nbformat_minor": 4
}
