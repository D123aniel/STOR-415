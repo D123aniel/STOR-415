{
 "cells": [
  {
   "cell_type": "markdown",
   "metadata": {},
   "source": [
    "# Building a house (Problem in the Harvard Business Review, 1963)\n",
    "\n",
    "Several tasks must be completed in order to build our house. Each task has a duration, and some tasks may be worked on simultaneously, but there are also task dependencies that induce precedence constraints. Some tasks can only be started once other tasks have been completed. The following table shows each task, its duration, and the tasks that must be completed before it starts. How fast can the house be built?\n",
    "\n",
    "![alt text](https://hbr.org/resources/images/article_assets/hbr/6309/63508_A.gif)"
   ]
  },
  {
   "cell_type": "markdown",
   "metadata": {
    "collapsed": true,
    "jupyter": {
     "outputs_hidden": true
    }
   },
   "source": [
    "## Problem Data"
   ]
  },
  {
   "cell_type": "code",
   "execution_count": 1,
   "metadata": {},
   "outputs": [],
   "source": [
    "#Array for storing task labels (:a, :b, ..., :x)\n",
    "tasks = []\n",
    "for i = 'a':'x'\n",
    "    #Can convert back to string using string(sym), i.e. string(:hello) returns \"hello\"\n",
    "    push!(tasks, Symbol(i))\n",
    "end\n",
    "\n",
    "#Dictionary to store task durations (in days)\n",
    "dur = [0, 4, 2, 4, 6, 1, 2, 3, 2, 4, 10, 3, 1, 2, 3, 2, 1, 1, 2, 3, 1, 2, 5, 0]\n",
    "duration = Dict(zip(tasks,dur))\n",
    "\n",
    "#Dictionary to store immediate predecessors for each project\n",
    "predecessors = ( [], [:a], [:b], [:c], [:d], [:c], [:f], [:f], [:d], [:d,:g], [:i,:j,:h], [:k],\n",
    "    [:l], [:l], [:l], [:e], [:p], [:c], [:o,:t], [:m,:n], [:t], [:q,:r], [:v], [:s,:u,:w])\n",
    "pred = Dict(zip(tasks,predecessors));"
   ]
  },
  {
   "cell_type": "code",
   "execution_count": 2,
   "metadata": {},
   "outputs": [
    {
     "name": "stdout",
     "output_type": "stream",
     "text": [
      "Min start[x]\n",
      "Subject to\n",
      " start[a] == 0\n",
      " link[b,a] : -start[a] + start[b] >= 0\n",
      " link[c,b] : -start[b] + start[c] >= 4\n",
      " link[d,c] : -start[c] + start[d] >= 2\n",
      " link[e,d] : -start[d] + start[e] >= 4\n",
      " link[f,c] : -start[c] + start[f] >= 2\n",
      " link[g,f] : -start[f] + start[g] >= 1\n",
      " link[h,f] : -start[f] + start[h] >= 1\n",
      " link[i,d] : -start[d] + start[i] >= 4\n",
      " link[j,d] : -start[d] + start[j] >= 4\n",
      " link[j,g] : -start[g] + start[j] >= 2\n",
      " link[k,i] : -start[i] + start[k] >= 2\n",
      " link[k,j] : -start[j] + start[k] >= 4\n",
      " link[k,h] : -start[h] + start[k] >= 3\n",
      " link[l,k] : -start[k] + start[l] >= 10\n",
      " link[m,l] : -start[l] + start[m] >= 3\n",
      " link[n,l] : -start[l] + start[n] >= 3\n",
      " link[o,l] : -start[l] + start[o] >= 3\n",
      " link[p,e] : -start[e] + start[p] >= 6\n",
      " link[q,p] : -start[p] + start[q] >= 2\n",
      " link[r,c] : -start[c] + start[r] >= 2\n",
      " link[s,o] : -start[o] + start[s] >= 3\n",
      " link[s,t] : start[s] - start[t] >= 3\n",
      " link[t,m] : -start[m] + start[t] >= 1\n",
      " link[t,n] : -start[n] + start[t] >= 2\n",
      " link[u,t] : -start[t] + start[u] >= 3\n",
      " link[v,q] : -start[q] + start[v] >= 1\n",
      " link[v,r] : -start[r] + start[v] >= 1\n",
      " link[w,v] : -start[v] + start[w] >= 2\n",
      " link[x,s] : -start[s] + start[x] >= 2\n",
      " link[x,u] : -start[u] + start[x] >= 1\n",
      " link[x,w] : -start[w] + start[x] >= 5\n"
     ]
    }
   ],
   "source": [
    "using JuMP, HiGHS\n",
    "m = Model(HiGHS.Optimizer)\n",
    "\n",
    "@variable(m, start[tasks])\n",
    "\n",
    "#for i in tasks\n",
    "#    for j in pred[i]\n",
    "        #Task i must start later than the start of task j plus the duration of task j\n",
    "#        @constraint(m, start[i] >= start[j] + duration[j])\n",
    "#    end\n",
    "#end\n",
    "#One-line implementation of the constraints:\n",
    "@constraint(m, link[i in tasks, j in pred[i]], start[i] >= start[j] + duration[j])\n",
    "\n",
    "#Initial condition\n",
    "@constraint(m, start[:a] == 0)\n",
    "#Total duration is start time of last task + duration of last task.\n",
    "@objective(m, Min, start[:x] + duration[:x]);\n",
    "\n",
    "print(m)"
   ]
  },
  {
   "cell_type": "code",
   "execution_count": 3,
   "metadata": {},
   "outputs": [
    {
     "name": "stdout",
     "output_type": "stream",
     "text": [
      "Running HiGHS 1.9.0 (git hash: 66f735e60): Copyright (c) 2024 HiGHS under MIT licence terms\n",
      "Coefficient ranges:\n",
      "  Matrix [1e+00, 1e+00]\n",
      "  Cost   [1e+00, 1e+00]\n",
      "  Bound  [0e+00, 0e+00]\n",
      "  RHS    [1e+00, 1e+01]\n",
      "Presolving model\n",
      "30 rows, 22 cols, 59 nonzeros  0s\n",
      "0 rows, 0 cols, 0 nonzeros  0s\n",
      "Presolve : Reductions: rows 0(-32); columns 0(-24); elements 0(-63) - Reduced to empty\n",
      "Solving the original LP from the solution after postsolve\n",
      "Model status        : Optimal\n",
      "Objective value     :  3.4000000000e+01\n",
      "Relative P-D gap    :  0.0000000000e+00\n",
      "HiGHS run time      :          0.00\n",
      "Start time for task a : -0.0\n",
      "Start time for task b : -0.0\n",
      "Start time for task c : 4.0\n",
      "Start time for task d : 6.0\n",
      "Start time for task e : 10.0\n",
      "Start time for task f : 6.0\n",
      "Start time for task g : 7.0\n",
      "Start time for task h : 7.0\n",
      "Start time for task i : 10.0\n",
      "Start time for task j : 10.0\n",
      "Start time for task k : 14.0\n",
      "Start time for task l : 24.0\n",
      "Start time for task m : 27.0\n",
      "Start time for task n : 27.0\n",
      "Start time for task o : 27.0\n",
      "Start time for task p : 16.0\n",
      "Start time for task q : 18.0\n",
      "Start time for task r : 6.0\n",
      "Start time for task s : 32.0\n",
      "Start time for task t : 29.0\n",
      "Start time for task u : 32.0\n",
      "Start time for task v : 19.0\n",
      "Start time for task w : 21.0\n",
      "Start time for task x : 34.0\n",
      "Minimum duration: 34.0 days.\n",
      "\n",
      "Shadow price for edge (a,b): -1.0\n",
      "Shadow price for edge (b,c): -1.0\n",
      "Shadow price for edge (c,d): -1.0\n",
      "Shadow price for edge (d,e): 0.0\n",
      "Shadow price for edge (c,f): 0.0\n",
      "Shadow price for edge (f,g): 0.0\n",
      "Shadow price for edge (f,h): 0.0\n",
      "Shadow price for edge (d,i): 0.0\n",
      "Shadow price for edge (d,j): -1.0\n",
      "Shadow price for edge (g,j): -0.0\n",
      "Shadow price for edge (i,k): -0.0\n",
      "Shadow price for edge (j,k): -1.0\n",
      "Shadow price for edge (h,k): -0.0\n",
      "Shadow price for edge (k,l): -1.0\n",
      "Shadow price for edge (l,m): 0.0\n",
      "Shadow price for edge (l,n): -1.0\n",
      "Shadow price for edge (l,o): 0.0\n",
      "Shadow price for edge (e,p): 0.0\n",
      "Shadow price for edge (p,q): 0.0\n",
      "Shadow price for edge (c,r): 0.0\n",
      "Shadow price for edge (o,s): -0.0\n",
      "Shadow price for edge (t,s): -1.0\n",
      "Shadow price for edge (m,t): -0.0\n",
      "Shadow price for edge (n,t): -1.0\n",
      "Shadow price for edge (t,u): 0.0\n",
      "Shadow price for edge (q,v): 0.0\n",
      "Shadow price for edge (r,v): -0.0\n",
      "Shadow price for edge (v,w): 0.0\n",
      "Shadow price for edge (s,x): -1.0\n",
      "Shadow price for edge (u,x): -0.0\n",
      "Shadow price for edge (w,x): -0.0\n"
     ]
    }
   ],
   "source": [
    "#Solve model\n",
    "optimize!(m)\n",
    "\n",
    "#Print solution\n",
    "for i in tasks\n",
    "    println(\"Start time for task \",i,\" : \", value.(start[i]))\n",
    "end\n",
    "\n",
    "println(\"Minimum duration: \", objective_value(m), \" days.\\n\")\n",
    "\n",
    "#Print constraint shadow prices (dual variables)\n",
    "for i in tasks\n",
    "    for j in pred[i]\n",
    "        println(\"Shadow price for edge (\",j,\",\",i,\"): \",shadow_price(link[i,j]))\n",
    "    end\n",
    "end"
   ]
  },
  {
   "cell_type": "code",
   "execution_count": null,
   "metadata": {},
   "outputs": [],
   "source": []
  }
 ],
 "metadata": {
  "kernelspec": {
   "display_name": "Julia 1.11.3",
   "language": "julia",
   "name": "julia-1.11"
  },
  "language_info": {
   "file_extension": ".jl",
   "mimetype": "application/julia",
   "name": "julia",
   "version": "1.11.3"
  }
 },
 "nbformat": 4,
 "nbformat_minor": 4
}
